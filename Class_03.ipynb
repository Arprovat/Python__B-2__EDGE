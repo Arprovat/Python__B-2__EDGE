{
  "nbformat": 4,
  "nbformat_minor": 0,
  "metadata": {
    "colab": {
      "provenance": [],
      "include_colab_link": true
    },
    "kernelspec": {
      "name": "python3",
      "display_name": "Python 3"
    },
    "language_info": {
      "name": "python"
    }
  },
  "cells": [
    {
      "cell_type": "markdown",
      "metadata": {
        "id": "view-in-github",
        "colab_type": "text"
      },
      "source": [
        "<a href=\"https://colab.research.google.com/github/Arprovat/Python__B-2__EDGE/blob/main/Class_03.ipynb\" target=\"_parent\"><img src=\"https://colab.research.google.com/assets/colab-badge.svg\" alt=\"Open In Colab\"/></a>"
      ]
    },
    {
      "cell_type": "code",
      "source": [
        "num = 5\n",
        "if num < 0:\n",
        "   print(\"Enter a positive number\")\n",
        "else:\n",
        "   sum = 0\n",
        "   while(num > 0):\n",
        "       sum += num\n",
        "       num -= 1\n",
        "   print(\"The sum is\", sum)\n"
      ],
      "metadata": {
        "colab": {
          "base_uri": "https://localhost:8080/"
        },
        "id": "9orjSCsXPlB6",
        "outputId": "c8629b04-a337-4818-a845-c4f6e85e6a39"
      },
      "execution_count": null,
      "outputs": [
        {
          "output_type": "stream",
          "name": "stdout",
          "text": [
            "The sum is 15\n"
          ]
        }
      ]
    },
    {
      "cell_type": "code",
      "source": [
        "i=1\n",
        "while i<=20:\n",
        "  if i%2==0:\n",
        "   print( \"Even:\",i)\n",
        "  i+=1\n"
      ],
      "metadata": {
        "colab": {
          "base_uri": "https://localhost:8080/"
        },
        "id": "wEGTJJM1QhX_",
        "outputId": "caf2f82c-9315-4c1b-920f-9e0b3e786123"
      },
      "execution_count": null,
      "outputs": [
        {
          "output_type": "stream",
          "name": "stdout",
          "text": [
            "Even: 2\n",
            "Even: 4\n",
            "Even: 6\n",
            "Even: 8\n",
            "Even: 10\n",
            "Even: 12\n",
            "Even: 14\n",
            "Even: 16\n",
            "Even: 18\n",
            "Even: 20\n"
          ]
        }
      ]
    },
    {
      "cell_type": "markdown",
      "source": [
        "# Even/Odd Number"
      ],
      "metadata": {
        "id": "dRZHvOczTNuv"
      }
    },
    {
      "cell_type": "code",
      "source": [
        "i=0\n",
        "while i<=20:\n",
        "  i+=1\n",
        "  if not (i%2):\n",
        "    continue\n",
        "  print(i)\n",
        "\n"
      ],
      "metadata": {
        "colab": {
          "base_uri": "https://localhost:8080/"
        },
        "id": "r5pCK51Ho2yi",
        "outputId": "14a1ebff-3b84-491a-9375-20047c07a362"
      },
      "execution_count": null,
      "outputs": [
        {
          "output_type": "stream",
          "name": "stdout",
          "text": [
            "1\n",
            "3\n",
            "5\n",
            "7\n",
            "9\n",
            "11\n",
            "13\n",
            "15\n",
            "17\n",
            "19\n",
            "21\n"
          ]
        }
      ]
    },
    {
      "cell_type": "code",
      "source": [],
      "metadata": {
        "id": "wL8gYMCmXTW1"
      },
      "execution_count": null,
      "outputs": []
    },
    {
      "cell_type": "markdown",
      "source": [
        "# Find Factorial"
      ],
      "metadata": {
        "id": "6RCWmukxTlhZ"
      }
    },
    {
      "cell_type": "code",
      "source": [
        "num = 3\n",
        "\n",
        "factorial = 1\n",
        "\n",
        "if num < 0:\n",
        "   print(\"Sorry, factorial does not exist for negative numbers\")\n",
        "elif num == 0:\n",
        "   print(\"The factorial of 0 is 1\")\n",
        "else:\n",
        "   for i in range(1,num + 1):\n",
        "       factorial = factorial*i\n",
        "   print(\"The factorial of\",num,\"is\",factorial)\n"
      ],
      "metadata": {
        "colab": {
          "base_uri": "https://localhost:8080/"
        },
        "id": "qSrg5lnvTscJ",
        "outputId": "b6b837c0-85ca-4102-a767-3a4fcc9277d5"
      },
      "execution_count": null,
      "outputs": [
        {
          "output_type": "stream",
          "name": "stdout",
          "text": [
            "The factorial of 3 is 6\n"
          ]
        }
      ]
    },
    {
      "cell_type": "code",
      "source": [
        "num=3\n",
        "factorial =1\n",
        "if num==0:\n",
        "  print(\"factorial 1\")\n",
        "else:\n",
        "  factorial = factorial*i\n",
        "print(\"the factorial is \",factorial)\n"
      ],
      "metadata": {
        "colab": {
          "base_uri": "https://localhost:8080/"
        },
        "id": "TwaK6xAlUF9I",
        "outputId": "9187bdd2-e7c0-4349-f478-36958be05bd0"
      },
      "execution_count": null,
      "outputs": [
        {
          "output_type": "stream",
          "name": "stdout",
          "text": [
            "the factorial is  3\n"
          ]
        }
      ]
    },
    {
      "cell_type": "markdown",
      "source": [
        "Multiplication\n"
      ],
      "metadata": {
        "id": "0E-7LjxhVhhe"
      }
    },
    {
      "cell_type": "code",
      "source": [
        "n=int(input(\"Put a number\"))\n",
        "i=1\n",
        "while i<=20:\n",
        "  print(n,'x',i,'=',n*i)\n",
        "  i+=1"
      ],
      "metadata": {
        "colab": {
          "base_uri": "https://localhost:8080/"
        },
        "id": "ltXAvS7iVmn-",
        "outputId": "72677583-d4ce-4bdb-ee8c-32df47cdcafc"
      },
      "execution_count": null,
      "outputs": [
        {
          "output_type": "stream",
          "name": "stdout",
          "text": [
            "Put a number5\n",
            "5 x 1 = 5\n",
            "5 x 2 = 10\n",
            "5 x 3 = 15\n",
            "5 x 4 = 20\n",
            "5 x 5 = 25\n",
            "5 x 6 = 30\n",
            "5 x 7 = 35\n",
            "5 x 8 = 40\n",
            "5 x 9 = 45\n",
            "5 x 10 = 50\n",
            "5 x 11 = 55\n",
            "5 x 12 = 60\n",
            "5 x 13 = 65\n",
            "5 x 14 = 70\n",
            "5 x 15 = 75\n",
            "5 x 16 = 80\n",
            "5 x 17 = 85\n",
            "5 x 18 = 90\n",
            "5 x 19 = 95\n",
            "5 x 20 = 100\n"
          ]
        }
      ]
    },
    {
      "cell_type": "code",
      "source": [],
      "metadata": {
        "id": "TwgzK4BIWoer"
      },
      "execution_count": null,
      "outputs": []
    },
    {
      "cell_type": "code",
      "source": [],
      "metadata": {
        "id": "G3dWu70NXl-v"
      },
      "execution_count": null,
      "outputs": []
    },
    {
      "cell_type": "markdown",
      "source": [
        "# List"
      ],
      "metadata": {
        "id": "Z1UbYrSWcm6f"
      }
    },
    {
      "cell_type": "code",
      "source": [
        "a=[1,2,3,4,5,6]\n",
        "print(a)\n",
        "a[2]=a[0]\n",
        "print(a)"
      ],
      "metadata": {
        "colab": {
          "base_uri": "https://localhost:8080/"
        },
        "id": "OzYUTNZKcwuk",
        "outputId": "8e4b8d56-8523-4d49-863c-824e8a230977"
      },
      "execution_count": null,
      "outputs": [
        {
          "output_type": "stream",
          "name": "stdout",
          "text": [
            "[1, 2, 3, 4, 5, 6]\n",
            "[1, 2, 1, 4, 5, 6]\n"
          ]
        }
      ]
    },
    {
      "cell_type": "code",
      "source": [
        "a=[1,2,3,4,5,6]\n",
        "print(a)\n",
        "i=0\n",
        "while i<len(a)/2:\n",
        "  a[i],a[len(a)-i-1]=a[len(a)-i-1], a[i]\n",
        "  i+=1\n",
        "  print(a)\n"
      ],
      "metadata": {
        "colab": {
          "base_uri": "https://localhost:8080/"
        },
        "id": "3vakSrBRfhrd",
        "outputId": "8af32149-32b9-4723-8172-959b9c2d680f"
      },
      "execution_count": null,
      "outputs": [
        {
          "output_type": "stream",
          "name": "stdout",
          "text": [
            "[1, 2, 3, 4, 5, 6]\n",
            "[6, 2, 3, 4, 5, 1]\n",
            "[6, 5, 3, 4, 2, 1]\n",
            "[6, 5, 4, 3, 2, 1]\n"
          ]
        }
      ]
    },
    {
      "cell_type": "markdown",
      "source": [
        "# Sum of Digits in a number"
      ],
      "metadata": {
        "id": "mMVxSjrkjF6S"
      }
    },
    {
      "cell_type": "markdown",
      "source": [
        "# Password Check"
      ],
      "metadata": {
        "id": "OoMA6bPep2wW"
      }
    },
    {
      "cell_type": "code",
      "source": [
        "pass_ = \"abc123\"\n",
        "MAX_ATTEMPT = 3\n",
        "match = False\n",
        "\n",
        "i = 0\n",
        "while i < MAX_ATTEMPT:\n",
        "    password = input(\"Enter password: \")\n",
        "    i += 1\n",
        "    if password == pass_:\n",
        "        match = True\n",
        "        break\n",
        "\n",
        "if match:\n",
        "    print(\"Access Granted\")\n",
        "else:\n",
        "    print(\"Access Denied\")\n",
        "\n"
      ],
      "metadata": {
        "colab": {
          "base_uri": "https://localhost:8080/"
        },
        "id": "Nn-JX7Oqp8N2",
        "outputId": "98697b47-c4a8-4d79-b74a-cce0a68bd591"
      },
      "execution_count": null,
      "outputs": [
        {
          "output_type": "stream",
          "name": "stdout",
          "text": [
            "Enter password: askdkas\n",
            "Enter password: abc123\n",
            "Access Granted\n"
          ]
        }
      ]
    },
    {
      "cell_type": "code",
      "source": [],
      "metadata": {
        "id": "dSWljxGLp7b5"
      },
      "execution_count": null,
      "outputs": []
    },
    {
      "cell_type": "code",
      "source": [
        "num = 684\n",
        "sum = 0\n",
        "\n",
        "while num > 0:\n",
        "    d = num % 10\n",
        "    num //= 10\n",
        "    sum += d\n",
        "print(sum)\n"
      ],
      "metadata": {
        "colab": {
          "base_uri": "https://localhost:8080/"
        },
        "id": "aiAz8O8zjKMc",
        "outputId": "e446a6aa-d538-47e2-912b-7b2602ed2592"
      },
      "execution_count": null,
      "outputs": [
        {
          "output_type": "stream",
          "name": "stdout",
          "text": [
            "18\n"
          ]
        }
      ]
    },
    {
      "cell_type": "markdown",
      "source": [
        "# find maximum in a list"
      ],
      "metadata": {
        "id": "p-4YUprLlDdk"
      }
    },
    {
      "cell_type": "code",
      "source": [
        "from ast import MatchSequence\n",
        "a=[11,12,22,13,5,26]\n",
        "max = a[0]\n",
        "i=0\n",
        "while i<len(a):\n",
        "  if a[i]>max:\n",
        "    max=a[i]\n",
        "  i+=1\n",
        "print(max)\n"
      ],
      "metadata": {
        "colab": {
          "base_uri": "https://localhost:8080/"
        },
        "id": "TpL1BpxXlJQL",
        "outputId": "a20d4467-d14c-4868-e3c0-6da9af9e8d0b"
      },
      "execution_count": null,
      "outputs": [
        {
          "output_type": "stream",
          "name": "stdout",
          "text": [
            "26\n"
          ]
        }
      ]
    },
    {
      "cell_type": "code",
      "source": [
        "while True:\n",
        "  line=input('> ')\n",
        "  if line[0]=='#':\n",
        "    continue\n",
        "  if line == 'done':\n",
        "    break\n",
        "  print(line)\n"
      ],
      "metadata": {
        "colab": {
          "base_uri": "https://localhost:8080/"
        },
        "id": "LwSNZhrEmeLi",
        "outputId": "6dd8374d-a1e1-448e-aedc-2e2da21adfa6"
      },
      "execution_count": null,
      "outputs": [
        {
          "name": "stdout",
          "output_type": "stream",
          "text": [
            "> blbl\n",
            "blbl\n",
            "> #\n",
            "> done\n"
          ]
        }
      ]
    },
    {
      "cell_type": "markdown",
      "source": [
        "# break when find negative number"
      ],
      "metadata": {
        "id": "sIa4xgnYnwGO"
      }
    },
    {
      "cell_type": "code",
      "source": [
        "a=[1,2,3,-2,4,5,6]\n",
        "i=0\n",
        "while i<len(a):\n",
        "  if a[i]<0:\n",
        "    break\n",
        "  else:\n",
        "   print(a[i])\n",
        "  i+=1"
      ],
      "metadata": {
        "colab": {
          "base_uri": "https://localhost:8080/"
        },
        "id": "owNwPODunz4X",
        "outputId": "c9f249e5-d027-4bdb-f76d-41c566fcc603"
      },
      "execution_count": null,
      "outputs": [
        {
          "output_type": "stream",
          "name": "stdout",
          "text": [
            "1\n",
            "2\n",
            "3\n"
          ]
        }
      ]
    }
  ]
}