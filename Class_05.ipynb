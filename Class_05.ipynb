{
  "nbformat": 4,
  "nbformat_minor": 0,
  "metadata": {
    "colab": {
      "provenance": [],
      "authorship_tag": "ABX9TyPv/wl/1BwqYZMY728iSjbb",
      "include_colab_link": true
    },
    "kernelspec": {
      "name": "python3",
      "display_name": "Python 3"
    },
    "language_info": {
      "name": "python"
    }
  },
  "cells": [
    {
      "cell_type": "markdown",
      "metadata": {
        "id": "view-in-github",
        "colab_type": "text"
      },
      "source": [
        "<a href=\"https://colab.research.google.com/github/Arprovat/Python__B-2__EDGE/blob/main/Class_05.ipynb\" target=\"_parent\"><img src=\"https://colab.research.google.com/assets/colab-badge.svg\" alt=\"Open In Colab\"/></a>"
      ]
    },
    {
      "cell_type": "markdown",
      "source": [
        "**Python Control Flow Exercises with\n",
        "Solutions**"
      ],
      "metadata": {
        "id": "518qNPR0Nygz"
      }
    },
    {
      "cell_type": "code",
      "source": [
        "# Grade Evaluation\n",
        "mark = float(input(\"Enter your mark:\"))\n",
        "\n",
        "if mark <0:\n",
        "  print(\"invalid Number\")\n",
        "elif mark >100:\n",
        "  print(\"invalid Number\")\n",
        "elif mark <40:\n",
        "  print('grade: F')\n",
        "elif mark <45 and mark >=40:\n",
        "  print('grade: D')\n",
        "elif mark <50 and mark >=45:\n",
        "  print('grade: D+')\n",
        "elif mark <55 and mark >=50:\n",
        "  print('grade: c')\n",
        "elif mark <60 and mark >=55:\n",
        "  print('grade: C+')\n",
        "elif mark <65 and mark >=60:\n",
        "  print('grade: B')\n",
        "elif mark <70 and mark >=65:\n",
        "  print('grade: B+')\n",
        "elif mark <75 and mark >=70:\n",
        "  print('grade: A')\n",
        "elif mark <80 and mark >=75:\n",
        "  print('grade: A-')\n",
        "elif mark > 80 and mark <=100:\n",
        "  print('grade: A+')"
      ],
      "metadata": {
        "colab": {
          "base_uri": "https://localhost:8080/"
        },
        "id": "wP3k-Y99N-QL",
        "outputId": "ab293520-c739-4ef6-babd-81300a473bc8"
      },
      "execution_count": 9,
      "outputs": [
        {
          "output_type": "stream",
          "name": "stdout",
          "text": [
            "Enter your mark:79\n",
            "grade: A-\n"
          ]
        }
      ]
    },
    {
      "cell_type": "code",
      "source": [
        "# Even Nunber in range\n",
        "num = int(input(\"Enter end range\"))\n",
        "\n",
        "for i in range(1,num+1):\n",
        "   if(i%2 ==0):\n",
        "    print(i,end=' ')\n",
        "\n",
        ""
      ],
      "metadata": {
        "colab": {
          "base_uri": "https://localhost:8080/"
        },
        "id": "hG0mnCuvRz-0",
        "outputId": "c1209c84-56d0-4400-c70d-3a7e89022ef2"
      },
      "execution_count": 15,
      "outputs": [
        {
          "output_type": "stream",
          "name": "stdout",
          "text": [
            "Enter end range23\n",
            "2 4 6 8 10 12 14 16 18 20 22 "
          ]
        }
      ]
    },
    {
      "cell_type": "code",
      "source": [
        "# Multiples of a Number\n",
        "num =int(input('enter the number'))\n",
        "\n",
        "for i in range(1,101):\n",
        "  if(i % num  == 0):\n",
        "    print(i,end=' ')\n"
      ],
      "metadata": {
        "colab": {
          "base_uri": "https://localhost:8080/"
        },
        "id": "qLbQz0Z8Siv3",
        "outputId": "53412ecf-826e-446f-ce2d-f6b590f6e7cc"
      },
      "execution_count": 25,
      "outputs": [
        {
          "output_type": "stream",
          "name": "stdout",
          "text": [
            "enter the number10\n",
            "10 20 30 40 50 60 70 80 90 100 "
          ]
        }
      ]
    },
    {
      "cell_type": "code",
      "source": [
        "# countDown\n",
        "countnumber= int(input('enter the count number: '))\n",
        "\n",
        "while countnumber >=0:\n",
        "  print(countnumber,end=' ');\n",
        "  countnumber -=1"
      ],
      "metadata": {
        "colab": {
          "base_uri": "https://localhost:8080/"
        },
        "id": "G-irrKonUEoS",
        "outputId": "3abbb606-bdf0-4b7c-bc0d-9e2634cb1b1d"
      },
      "execution_count": 30,
      "outputs": [
        {
          "output_type": "stream",
          "name": "stdout",
          "text": [
            "enter the count number: 10\n",
            "10 9 8 7 6 5 4 3 2 1 0 "
          ]
        }
      ]
    },
    {
      "cell_type": "code",
      "source": [
        "#factorial\n",
        "num= int(input('Enter the number'))\n",
        "fact = 1;\n",
        "\n",
        "for i in range(1,num+1):\n",
        "  fact *=i\n",
        "\n",
        "print(f'the factorial of {num} is {fact}')"
      ],
      "metadata": {
        "colab": {
          "base_uri": "https://localhost:8080/"
        },
        "id": "LxlKQ9VsU1fO",
        "outputId": "02629778-9762-47ea-91b3-18776853e829"
      },
      "execution_count": 28,
      "outputs": [
        {
          "output_type": "stream",
          "name": "stdout",
          "text": [
            "Enter the number5\n",
            "the factorial of 5 is 120\n"
          ]
        }
      ]
    },
    {
      "cell_type": "code",
      "source": [
        "# prime number\n",
        "import math\n",
        "num= int(input(\"Enter the number: \"))\n",
        "\n",
        "for i in range(2,int(math.sqrt(num))+1):\n",
        "  if(num%i==0):\n",
        "    print('not a prime number')\n",
        "    break\n",
        "else:\n",
        "  print('prime number')"
      ],
      "metadata": {
        "colab": {
          "base_uri": "https://localhost:8080/"
        },
        "id": "mto9KObAWt6p",
        "outputId": "aff102d3-cbf5-472b-d8eb-93f20d4390d6"
      },
      "execution_count": 40,
      "outputs": [
        {
          "output_type": "stream",
          "name": "stdout",
          "text": [
            "Enter the number: 21\n",
            "not a prime number\n"
          ]
        }
      ]
    },
    {
      "source": [
        "#Fibonacci sequence\n",
        "n = int(input(\"Enter the number of terms in Fibonacci sequence: \"))\n",
        "a ,b  = 0,1\n",
        "print(\"Fibonacci sequence:\")\n",
        "for i in range(n):\n",
        "   print(a, end=' ')\n",
        "   a,b= b, a + b\n",
        "\n",
        "\n",
        "print()"
      ],
      "cell_type": "code",
      "metadata": {
        "colab": {
          "base_uri": "https://localhost:8080/"
        },
        "id": "6HN8SgYUZCTF",
        "outputId": "09f68c85-e708-480b-9a11-2a821844da49"
      },
      "execution_count": 53,
      "outputs": [
        {
          "output_type": "stream",
          "name": "stdout",
          "text": [
            "Enter the number of terms in Fibonacci sequence: 10\n",
            "Fibonacci sequence:\n",
            "0 1 1 2 3 5 8 13 21 34 \n"
          ]
        }
      ]
    },
    {
      "cell_type": "code",
      "source": [
        "#vowel\n",
        "def check(char):\n",
        "  if char in 'aeiou':\n",
        "   print(f'{char} is vowel')\n",
        "  else :\n",
        "    print(f'{char} is consonant')\n",
        "\n",
        "char  = input(\"Enter the charactr: \").lower()\n",
        "check(char)"
      ],
      "metadata": {
        "colab": {
          "base_uri": "https://localhost:8080/"
        },
        "id": "MulKoV2HX2-Y",
        "outputId": "4ee1d10b-fa7e-4692-8813-2bccada213e2"
      },
      "execution_count": 52,
      "outputs": [
        {
          "output_type": "stream",
          "name": "stdout",
          "text": [
            "Enter the charactr: d\n",
            "d is consonant\n"
          ]
        }
      ]
    },
    {
      "cell_type": "code",
      "source": [
        "#guess game\n",
        "import random\n",
        "\n",
        "def guess(Random):\n",
        "  guess_number=None;\n",
        "  while guess_number != Random:\n",
        "    guess_number=int(input('Enter the number: '))\n",
        "    if guess_number >Random:\n",
        "      print('too large')\n",
        "    elif guess_number<Random :\n",
        "      print('too low')\n",
        "\n",
        "  print('You`ve guess the number')\n",
        "\n",
        "\n",
        "Random = random.randint(1,20)\n",
        "guess(Random)"
      ],
      "metadata": {
        "colab": {
          "base_uri": "https://localhost:8080/"
        },
        "id": "ligzJCzPiFs6",
        "outputId": "328b0692-c0dc-4ef2-9990-44607fb283bf"
      },
      "execution_count": 65,
      "outputs": [
        {
          "output_type": "stream",
          "name": "stdout",
          "text": [
            "Enter the number: 11\n",
            "too low\n",
            "Enter the number: 12\n",
            "too low\n",
            "Enter the number: 14\n",
            "You`ve guess the number\n"
          ]
        }
      ]
    },
    {
      "cell_type": "code",
      "source": [
        "#count character\n",
        "String = input('enter the string: ')\n",
        "char = input('entre the char: ')\n",
        "count=0\n",
        "for i in String:\n",
        "  if(i == char):\n",
        "    count+=1\n",
        "print(count)"
      ],
      "metadata": {
        "colab": {
          "base_uri": "https://localhost:8080/"
        },
        "id": "PQriIWfMlapK",
        "outputId": "460e7984-505f-4e81-ccc8-a63050aaf12a"
      },
      "execution_count": 69,
      "outputs": [
        {
          "output_type": "stream",
          "name": "stdout",
          "text": [
            "enter the string: green \n",
            "entre the char: e\n",
            "2\n"
          ]
        }
      ]
    },
    {
      "cell_type": "code",
      "source": [
        "#Check palindrome\n",
        "string = input(\"Enter the string: \")\n",
        "print(string[2:5:1])\n",
        "reverse = string[::-1]\n",
        "if(string == reverse):\n",
        "  print('palindrome')\n",
        "else:\n",
        "  print('not palindrome')"
      ],
      "metadata": {
        "colab": {
          "base_uri": "https://localhost:8080/"
        },
        "id": "TCFbVnC_mL1d",
        "outputId": "f8797e47-c7c1-496a-fd34-60d3766f430d"
      },
      "execution_count": 78,
      "outputs": [
        {
          "output_type": "stream",
          "name": "stdout",
          "text": [
            "Enter the string: provat\n",
            "ova\n",
            "not palindrome\n"
          ]
        }
      ]
    },
    {
      "cell_type": "code",
      "source": [
        "num =int(input('Enter the row number'))\n",
        "\n",
        "for i in range(1,num+1):\n",
        "  print(i*'* ')"
      ],
      "metadata": {
        "colab": {
          "base_uri": "https://localhost:8080/"
        },
        "id": "Ec9VKx__n_kK",
        "outputId": "6c7b6cf2-ae1d-4dc0-daba-798b470eef2a"
      },
      "execution_count": 80,
      "outputs": [
        {
          "output_type": "stream",
          "name": "stdout",
          "text": [
            "Enter the row number4\n",
            "* \n",
            "* * \n",
            "* * * \n",
            "* * * * \n"
          ]
        }
      ]
    },
    {
      "cell_type": "code",
      "source": [
        "num = int(input('Enter the row number'))\n",
        "\n",
        "for i in range(1, num + 1):\n",
        "    print(\" \" * (num - i) + \"*\" * (2 * i - 1))"
      ],
      "metadata": {
        "colab": {
          "base_uri": "https://localhost:8080/"
        },
        "id": "IBcZoLlboxZl",
        "outputId": "5c45b121-66ee-4502-b842-c3fe7a5dc550"
      },
      "execution_count": 92,
      "outputs": [
        {
          "output_type": "stream",
          "name": "stdout",
          "text": [
            "Enter the row number4\n",
            "   *\n",
            "  ***\n",
            " *****\n",
            "*******\n"
          ]
        }
      ]
    },
    {
      "cell_type": "code",
      "source": [
        "month = int(input(\"Enter month number (1-12): \"))\n",
        "year = int(input(\"Enter year: \"))\n",
        "\n",
        "if month == 2:\n",
        " if (year % 4 == 0 and year % 100 != 0) or (year % 400 == 0):\n",
        "  print(\"February has 29 days.\")\n",
        " else:\n",
        "  print(\"February has 28 days.\")\n",
        "elif month in [4, 6, 9, 11]:\n",
        "    print(f\"The month has 30 days.\")\n",
        "else:\n",
        "     print(f\"The month has 31 days.\")"
      ],
      "metadata": {
        "colab": {
          "base_uri": "https://localhost:8080/"
        },
        "id": "fMrl6VMDpayn",
        "outputId": "e4e0b66e-dc12-4e17-cc70-244211415dd8"
      },
      "execution_count": 89,
      "outputs": [
        {
          "output_type": "stream",
          "name": "stdout",
          "text": [
            "Enter month number (1-12): 2\n",
            "Enter year: 2024\n",
            "February has 29 days.\n"
          ]
        }
      ]
    }
  ]
}