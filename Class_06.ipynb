{
  "nbformat": 4,
  "nbformat_minor": 0,
  "metadata": {
    "colab": {
      "provenance": [],
      "authorship_tag": "ABX9TyM3yqCI+qvohuHXO3GVZsmX",
      "include_colab_link": true
    },
    "kernelspec": {
      "name": "python3",
      "display_name": "Python 3"
    },
    "language_info": {
      "name": "python"
    }
  },
  "cells": [
    {
      "cell_type": "markdown",
      "metadata": {
        "id": "view-in-github",
        "colab_type": "text"
      },
      "source": [
        "<a href=\"https://colab.research.google.com/github/Arprovat/Python__B-2__EDGE/blob/main/Class_06.ipynb\" target=\"_parent\"><img src=\"https://colab.research.google.com/assets/colab-badge.svg\" alt=\"Open In Colab\"/></a>"
      ]
    },
    {
      "cell_type": "markdown",
      "source": [
        "# Function\n",
        "Importent way to enclose any functionally in programming language\n",
        "\n",
        "**Advantage**\n",
        "\n",
        "\n",
        "\n",
        "*  Time save\n",
        "*  use again and again\n",
        "*  usefull function name make code more readable:\n",
        "\n",
        "\n",
        "Define a function and call\n",
        "```\n",
        "def function_name():\n",
        "    print('hello')\n",
        "\n",
        "function_name()\n",
        "```\n",
        "\n",
        "\n"
      ],
      "metadata": {
        "id": "8TvD9lVo7c-W"
      }
    },
    {
      "cell_type": "code",
      "execution_count": 1,
      "metadata": {
        "colab": {
          "base_uri": "https://localhost:8080/"
        },
        "id": "BE_uEtX27GCz",
        "outputId": "76f969cf-beab-4010-9035-03ee1535fb64"
      },
      "outputs": [
        {
          "output_type": "stream",
          "name": "stdout",
          "text": [
            "What is your name? provat\n",
            "Hello provat\n"
          ]
        }
      ],
      "source": [
        "def print_name():\n",
        "  name = input('What is your name? ')\n",
        "  print('Hello ' + name)\n",
        "\n",
        "print_name()"
      ]
    },
    {
      "cell_type": "markdown",
      "source": [
        "1. **find max number in 3 given number**"
      ],
      "metadata": {
        "id": "9gwit5q6CMNW"
      }
    },
    {
      "cell_type": "code",
      "source": [
        "\n",
        "\n",
        "def MaxNumber():\n",
        "  num1 = int(input(\"Enter the 1st number: \"))\n",
        "  num2 = int(input(\"Enter the 2nd number: \"))\n",
        "  num3 = int(input(\"Enter the 3rd number: \"))\n",
        "  if num1 > num2 and num1>num3 :\n",
        "    print('Max: ',num1)\n",
        "  elif num2>num3:\n",
        "    print('max:',num2)\n",
        "  else:\n",
        "    print('max:',num3)\n",
        "\n",
        "\n",
        "MaxNumber()"
      ],
      "metadata": {
        "colab": {
          "base_uri": "https://localhost:8080/"
        },
        "id": "HimZtg7Q_n0G",
        "outputId": "1f80b964-cc0d-4743-ae77-3d38c77d03a6"
      },
      "execution_count": 2,
      "outputs": [
        {
          "output_type": "stream",
          "name": "stdout",
          "text": [
            "Enter the 1st number: 12\n",
            "Enter the 1st number: 34\n",
            "Enter the 1st number: 22\n",
            "max: 34\n"
          ]
        }
      ]
    },
    {
      "cell_type": "markdown",
      "source": [
        "2. **Write a Python Program to get a Number from User to Display\n",
        "Multiplication Table for that Number in Reverse Mode**"
      ],
      "metadata": {
        "id": "Lg6ZvQ8MB297"
      }
    },
    {
      "cell_type": "code",
      "source": [
        "def ReverseMultiplication():\n",
        "  num = int(input('Enter the number: '))\n",
        "  for i in range(10,0,-1):\n",
        "    print(f'{num}*{i}={num*i}')\n",
        "\n",
        "ReverseMultiplication()"
      ],
      "metadata": {
        "colab": {
          "base_uri": "https://localhost:8080/"
        },
        "id": "bx3PzdecAwRU",
        "outputId": "4c9ca0fd-d40a-44a2-d3c0-10ae29e82570"
      },
      "execution_count": 5,
      "outputs": [
        {
          "output_type": "stream",
          "name": "stdout",
          "text": [
            "Enter the number: 10\n",
            "10*10=100\n",
            "10*9=90\n",
            "10*8=80\n",
            "10*7=70\n",
            "10*6=60\n",
            "10*5=50\n",
            "10*4=40\n",
            "10*3=30\n",
            "10*2=20\n",
            "10*1=10\n"
          ]
        }
      ]
    },
    {
      "cell_type": "markdown",
      "source": [
        "## Argument and parameter in python\n",
        "**paremeter** is basically a information that is send to function in order to use inside the function body to perform any operation.\n",
        "\n",
        "Actul value are called **Argument**\n",
        "\n",
        "```\n",
        "def function_name(world): #formal value or parameter, receiver\n",
        "\tprint(world)\n",
        "function_name(‘hi’)\t     #Actual value or argument, sender\n",
        "\n",
        "```\n",
        "\n"
      ],
      "metadata": {
        "id": "Dtr-dqd9C4q8"
      }
    },
    {
      "cell_type": "markdown",
      "source": [
        "3. **Write a Python Program to get a Number from User to Display Multiplication Table for that Number in Reverse Mode using argument and parameter**"
      ],
      "metadata": {
        "id": "grJIlHkREs6A"
      }
    },
    {
      "cell_type": "code",
      "source": [
        "def ReverseMultiplication(num):\n",
        "  for i in range(10,0,-1):\n",
        "    print(f'{num}*{i}={num*i}')\n",
        "\n",
        "number = int(input('Enter the number: '))\n",
        "ReverseMultiplication(number)"
      ],
      "metadata": {
        "colab": {
          "base_uri": "https://localhost:8080/"
        },
        "id": "ikMJyiwjC4Vv",
        "outputId": "07de0535-0fd2-438d-f5bd-d5a005e4c6c2"
      },
      "execution_count": 6,
      "outputs": [
        {
          "output_type": "stream",
          "name": "stdout",
          "text": [
            "Enter the number: 17\n",
            "17*10=170\n",
            "17*9=153\n",
            "17*8=136\n",
            "17*7=119\n",
            "17*6=102\n",
            "17*5=85\n",
            "17*4=68\n",
            "17*3=51\n",
            "17*2=34\n",
            "17*1=17\n"
          ]
        }
      ]
    },
    {
      "cell_type": "markdown",
      "source": [
        "**KeyWord: No need to sequence**"
      ],
      "metadata": {
        "id": "0Njf0AFqFOfX"
      }
    },
    {
      "cell_type": "code",
      "source": [
        "\n",
        "def MaxNumber(num1,num2,num3):\n",
        "\n",
        "  if num1 > num2 and num1>num3 :\n",
        "    print('Max: ',num1)\n",
        "  elif num2>num3:\n",
        "    print('max:',num2)\n",
        "  else:\n",
        "    print('max:',num3)\n",
        "\n",
        "\n",
        "MaxNumber(num2=143,num1=567,num3=444)"
      ],
      "metadata": {
        "colab": {
          "base_uri": "https://localhost:8080/"
        },
        "id": "XwmSWKmEFKyk",
        "outputId": "4ec8b76e-0f04-430c-9e68-f54d580745ba"
      },
      "execution_count": 7,
      "outputs": [
        {
          "output_type": "stream",
          "name": "stdout",
          "text": [
            "Max:  567\n"
          ]
        }
      ]
    },
    {
      "cell_type": "markdown",
      "source": [
        "**Default Parameter:To provide a default value in function declaration, that parameter we say that  it is default one.**"
      ],
      "metadata": {
        "id": "FyAj4iVnF0EX"
      }
    },
    {
      "cell_type": "code",
      "source": [
        "def message(str_,Str_1 ='alice'):\n",
        "  print(str_,Str_1)\n",
        "\n",
        "message('hello')\n",
        "message('hello','bob')"
      ],
      "metadata": {
        "colab": {
          "base_uri": "https://localhost:8080/"
        },
        "id": "Yp5pR2sEGJTO",
        "outputId": "b953da54-5f8c-4af8-af3a-f8203d3cae6f"
      },
      "execution_count": 9,
      "outputs": [
        {
          "output_type": "stream",
          "name": "stdout",
          "text": [
            "hello alice\n",
            "hello bob\n"
          ]
        }
      ]
    },
    {
      "cell_type": "markdown",
      "source": [
        "# Practice Problem\n",
        "1. Write a Python Program to Find Area of Circle and Area of Square"
      ],
      "metadata": {
        "id": "Ps5PHDyoG6zt"
      }
    },
    {
      "cell_type": "code",
      "source": [
        "import math\n",
        "def AreaOFCircle(r):\n",
        "  return math.pi*r*r\n",
        "\n",
        "def AreaOfSquare(l):\n",
        "  return l*l\n",
        "\n",
        "print('Area of Circle',round(AreaOFCircle(3),2))\n",
        "print('Area of Square',AreaOfSquare(5))"
      ],
      "metadata": {
        "colab": {
          "base_uri": "https://localhost:8080/"
        },
        "id": "AISSxUdnHLJt",
        "outputId": "380af162-660d-4e2a-a618-997e2a561845"
      },
      "execution_count": 49,
      "outputs": [
        {
          "output_type": "stream",
          "name": "stdout",
          "text": [
            "Area of Circle 28.27\n",
            "Area of Square 25\n"
          ]
        }
      ]
    },
    {
      "cell_type": "markdown",
      "source": [
        "2. Write a Python Program to get a Sentence from User to Count Total Number of Characters in a Sentence"
      ],
      "metadata": {
        "id": "gxizzLqEIaoL"
      }
    },
    {
      "cell_type": "code",
      "source": [
        "\n",
        "def length_cha(s):\n",
        "  count = 0\n",
        "  for i in s:\n",
        "      count+=1\n",
        "  return count\n",
        "\n",
        "print(length_cha('pr9ic84e'))"
      ],
      "metadata": {
        "colab": {
          "base_uri": "https://localhost:8080/"
        },
        "id": "2eoFUXVZIfto",
        "outputId": "dc170c58-3c46-47d3-d45c-66981093a7ec"
      },
      "execution_count": 33,
      "outputs": [
        {
          "output_type": "stream",
          "name": "stdout",
          "text": [
            "8\n"
          ]
        }
      ]
    },
    {
      "cell_type": "markdown",
      "source": [
        "3. Write a Python Program to Make a Percentage Calculator"
      ],
      "metadata": {
        "id": "On0gA5zFLOzQ"
      }
    },
    {
      "cell_type": "code",
      "source": [
        "def percent(num,total):\n",
        "  return (num/total)*100\n",
        "\n",
        "print(percent(2000,18070),'%')"
      ],
      "metadata": {
        "colab": {
          "base_uri": "https://localhost:8080/"
        },
        "id": "YwmxajCKLTdg",
        "outputId": "b34c795e-baf7-43c3-bbcb-c8d17dafd130"
      },
      "execution_count": 50,
      "outputs": [
        {
          "output_type": "stream",
          "name": "stdout",
          "text": [
            "11.068068622025457 %\n"
          ]
        }
      ]
    },
    {
      "cell_type": "markdown",
      "source": [
        "4. Write a Python Program to Make an Average Calculator"
      ],
      "metadata": {
        "id": "y-zpimhZL6kg"
      }
    },
    {
      "cell_type": "code",
      "source": [
        "def Avarage(num):\n",
        "  return sum(num)/len(num)\n",
        "\n",
        "print(Avarage([1,2,3,4,5]))"
      ],
      "metadata": {
        "colab": {
          "base_uri": "https://localhost:8080/"
        },
        "id": "KpKZ0SlsML6i",
        "outputId": "68b48b05-e142-4254-a480-8ce1ffe9645e"
      },
      "execution_count": 38,
      "outputs": [
        {
          "output_type": "stream",
          "name": "stdout",
          "text": [
            "3.0\n"
          ]
        }
      ]
    },
    {
      "cell_type": "markdown",
      "source": [
        "Write a Python Program to get Username from User that should Contain Only Alpha or Numeric Data, not Special Character or White Space. And Length of Username should be Equal to 8 or Less Than 20 Characters"
      ],
      "metadata": {
        "id": "sdLhmkq2M1Xy"
      }
    },
    {
      "cell_type": "code",
      "source": [
        "import re\n",
        "def CheckInput(s):\n",
        "  if len(s)>7 and len(s)<20:\n",
        "    if re.fullmatch(\"[a-zA-Z0-9]+\", s):\n",
        "      return s\n",
        "    else:\n",
        "      return 'Only Alpha or Numeric Data'\n",
        "  else:\n",
        "    return 'Equal to 8 or Less Than 20 Characters'\n",
        "\n",
        "sentence = input('Enter a sentence: ')\n",
        "\n",
        "print(CheckInput(sentence))"
      ],
      "metadata": {
        "colab": {
          "base_uri": "https://localhost:8080/"
        },
        "id": "eBubrvM4NVcX",
        "outputId": "39390b71-0c69-4fd6-bbb9-12aa74bd0237"
      },
      "execution_count": 46,
      "outputs": [
        {
          "output_type": "stream",
          "name": "stdout",
          "text": [
            "Enter a sentence: uiokjh hhh-\n",
            "Only Alpha or Numeric Data\n"
          ]
        }
      ]
    },
    {
      "cell_type": "markdown",
      "source": [
        "**Anonymous Function**: has no name and only one expresion\n",
        "\n",
        "**use lambda paramete:**"
      ],
      "metadata": {
        "id": "xB5aTLN5WU5Y"
      }
    },
    {
      "cell_type": "code",
      "source": [
        "showName= lambda name: print('hello',name)\n",
        "showName('provat')"
      ],
      "metadata": {
        "colab": {
          "base_uri": "https://localhost:8080/"
        },
        "id": "FFYbNzKsW20K",
        "outputId": "769c29bc-644e-492d-e381-04c5cd7ff5b0"
      },
      "execution_count": 51,
      "outputs": [
        {
          "output_type": "stream",
          "name": "stdout",
          "text": [
            "hello provat\n"
          ]
        }
      ]
    },
    {
      "cell_type": "code",
      "source": [
        "sum = lambda a,b:a+b\n",
        "print(sum(20,56))"
      ],
      "metadata": {
        "colab": {
          "base_uri": "https://localhost:8080/"
        },
        "id": "7kmQYpxqXQu2",
        "outputId": "4b92571a-b9ae-4769-f687-2050a43b7521"
      },
      "execution_count": 52,
      "outputs": [
        {
          "output_type": "stream",
          "name": "stdout",
          "text": [
            "76\n"
          ]
        }
      ]
    },
    {
      "cell_type": "markdown",
      "source": [
        "6. Write a Python Program to get First Name and Last Name, Pass to Lambda Function as Argument to Display Full Name"
      ],
      "metadata": {
        "id": "CjC3JxxYXi8n"
      }
    },
    {
      "cell_type": "code",
      "source": [
        "PrintFullname = lambda f_name,l_name: f_name+' '+l_name\n",
        "\n",
        "print(PrintFullname('Abdur','rahman'))"
      ],
      "metadata": {
        "colab": {
          "base_uri": "https://localhost:8080/"
        },
        "id": "rtX0D_g5Xrap",
        "outputId": "43e62e45-2868-4c5e-b6a8-ea449d99a5ad"
      },
      "execution_count": 54,
      "outputs": [
        {
          "output_type": "stream",
          "name": "stdout",
          "text": [
            "Abdur rahman\n"
          ]
        }
      ]
    },
    {
      "cell_type": "markdown",
      "source": [
        "7. Write a Python Program to get 3 Numbers from User to Add three Numbers using Lambda Function"
      ],
      "metadata": {
        "id": "AcZwLE3VYC54"
      }
    },
    {
      "cell_type": "code",
      "source": [
        "Sum = lambda a,b,c: a+b+c\n",
        "print(Sum(2,3,4))"
      ],
      "metadata": {
        "colab": {
          "base_uri": "https://localhost:8080/"
        },
        "id": "pNTx1sHKYG1m",
        "outputId": "a462095d-a0d0-4b54-fe3a-ce0bc13fdcff"
      },
      "execution_count": 69,
      "outputs": [
        {
          "output_type": "stream",
          "name": "stdout",
          "text": [
            "9\n"
          ]
        }
      ]
    },
    {
      "cell_type": "code",
      "source": [
        "# Map function\n",
        "\n",
        "number =[1,3,54,6]\n",
        "\n",
        "#def square(x):\n",
        "  #return x*x\n",
        "\n",
        "#squareList= map(square,number)\n",
        "SqureList= list(map(lambda x:x*x,number))\n",
        "print(list(SqureList))"
      ],
      "metadata": {
        "colab": {
          "base_uri": "https://localhost:8080/"
        },
        "id": "DSO2p6-6aaGp",
        "outputId": "14ff2f69-6f71-4b74-c480-4b71e3dd7b9b"
      },
      "execution_count": 67,
      "outputs": [
        {
          "output_type": "stream",
          "name": "stdout",
          "text": [
            "[1, 9, 2916, 36]\n"
          ]
        }
      ]
    },
    {
      "cell_type": "code",
      "source": [
        "number =[1,3,54,6]\n",
        "number1 =[13,3454,6]\n",
        "SqureList= list(map(lambda x,b:x+b,number,number1))\n",
        "print(list(SqureList))\n",
        "\n"
      ],
      "metadata": {
        "colab": {
          "base_uri": "https://localhost:8080/"
        },
        "id": "6eErIVg-c0ul",
        "outputId": "d7e377ac-25bd-4113-a104-8c15b53409df"
      },
      "execution_count": 68,
      "outputs": [
        {
          "output_type": "stream",
          "name": "stdout",
          "text": [
            "[14, 3457, 60]\n"
          ]
        }
      ]
    },
    {
      "cell_type": "code",
      "source": [
        "#FILTER EUNCTION\n",
        "number =[3,4,6,7,3,30]\n",
        "\n",
        "Evenmunber = list(filter(lambda x:x%2==1,number))\n",
        "print(Evenmunber)"
      ],
      "metadata": {
        "colab": {
          "base_uri": "https://localhost:8080/"
        },
        "id": "1aOg_t5wb0Pb",
        "outputId": "e7103419-4dca-44ca-b3f9-66f8f6d21e72"
      },
      "execution_count": 70,
      "outputs": [
        {
          "output_type": "stream",
          "name": "stdout",
          "text": [
            "[3, 7, 3]\n"
          ]
        }
      ]
    }
  ]
}