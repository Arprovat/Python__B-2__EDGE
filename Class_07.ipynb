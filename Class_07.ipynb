{
  "nbformat": 4,
  "nbformat_minor": 0,
  "metadata": {
    "colab": {
      "provenance": [],
      "authorship_tag": "ABX9TyMR1+w3/mJz5LKBn3Y/5nXC",
      "include_colab_link": true
    },
    "kernelspec": {
      "name": "python3",
      "display_name": "Python 3"
    },
    "language_info": {
      "name": "python"
    }
  },
  "cells": [
    {
      "cell_type": "markdown",
      "metadata": {
        "id": "view-in-github",
        "colab_type": "text"
      },
      "source": [
        "<a href=\"https://colab.research.google.com/github/Arprovat/Python__B-2__EDGE/blob/main/Class_07.ipynb\" target=\"_parent\"><img src=\"https://colab.research.google.com/assets/colab-badge.svg\" alt=\"Open In Colab\"/></a>"
      ]
    },
    {
      "cell_type": "markdown",
      "source": [
        "# String\n",
        "Almost like list maintaing a sequence,but list is **mutable(changable)** ,String is **immutable(not changable)**.\n",
        "\n",
        "**string** must be in a quotes"
      ],
      "metadata": {
        "id": "e5Icp5JuOYCM"
      }
    },
    {
      "cell_type": "code",
      "execution_count": 2,
      "metadata": {
        "colab": {
          "base_uri": "https://localhost:8080/"
        },
        "id": "1E_jpPrKN9JV",
        "outputId": "7644a94a-0882-4083-bfc4-0382907def17"
      },
      "outputs": [
        {
          "output_type": "stream",
          "name": "stdout",
          "text": [
            "hello there\n"
          ]
        }
      ],
      "source": [
        "str1='hello'\n",
        "str2='there'\n",
        "bob = str1+\" \"+str2 #same type data can concate using +\n",
        "print(bob)"
      ]
    },
    {
      "cell_type": "code",
      "source": [
        "print(str2)\n",
        "str2[2]='o'\n",
        "print(str2)"
      ],
      "metadata": {
        "colab": {
          "base_uri": "https://localhost:8080/",
          "height": 193
        },
        "id": "FdHNWfj1QxTb",
        "outputId": "c6c8d5c0-9114-4552-ed15-755ea18e9a53"
      },
      "execution_count": 6,
      "outputs": [
        {
          "output_type": "stream",
          "name": "stdout",
          "text": [
            "there\n"
          ]
        },
        {
          "output_type": "error",
          "ename": "TypeError",
          "evalue": "'str' object does not support item assignment",
          "traceback": [
            "\u001b[0;31m---------------------------------------------------------------------------\u001b[0m",
            "\u001b[0;31mTypeError\u001b[0m                                 Traceback (most recent call last)",
            "\u001b[0;32m<ipython-input-6-4b5beb874a08>\u001b[0m in \u001b[0;36m<cell line: 2>\u001b[0;34m()\u001b[0m\n\u001b[1;32m      1\u001b[0m \u001b[0mprint\u001b[0m\u001b[0;34m(\u001b[0m\u001b[0mstr2\u001b[0m\u001b[0;34m)\u001b[0m\u001b[0;34m\u001b[0m\u001b[0;34m\u001b[0m\u001b[0m\n\u001b[0;32m----> 2\u001b[0;31m \u001b[0mstr2\u001b[0m\u001b[0;34m[\u001b[0m\u001b[0;36m2\u001b[0m\u001b[0;34m]\u001b[0m\u001b[0;34m=\u001b[0m\u001b[0;34m'o'\u001b[0m\u001b[0;34m\u001b[0m\u001b[0;34m\u001b[0m\u001b[0m\n\u001b[0m\u001b[1;32m      3\u001b[0m \u001b[0mprint\u001b[0m\u001b[0;34m(\u001b[0m\u001b[0mstr2\u001b[0m\u001b[0;34m)\u001b[0m\u001b[0;34m\u001b[0m\u001b[0;34m\u001b[0m\u001b[0m\n",
            "\u001b[0;31mTypeError\u001b[0m: 'str' object does not support item assignment"
          ]
        }
      ]
    },
    {
      "cell_type": "markdown",
      "source": [
        "**Because of String is immutable**"
      ],
      "metadata": {
        "id": "h5r41hi0RN6O"
      }
    },
    {
      "cell_type": "code",
      "source": [
        "#looking inside String\n",
        "print(str2)\n",
        "\n",
        "print(str2[2])"
      ],
      "metadata": {
        "colab": {
          "base_uri": "https://localhost:8080/"
        },
        "id": "jGzzvj-mRiee",
        "outputId": "8f24c58e-3134-4435-b2d2-4cf9cf306651"
      },
      "execution_count": 8,
      "outputs": [
        {
          "output_type": "stream",
          "name": "stdout",
          "text": [
            "there\n",
            "e\n"
          ]
        }
      ]
    },
    {
      "cell_type": "markdown",
      "source": [
        "**Looping Through String**"
      ],
      "metadata": {
        "id": "QVr4xY9bSXBD"
      }
    },
    {
      "cell_type": "code",
      "source": [
        "str2='provat'\n",
        "for i in str2:\n",
        "  print(i)"
      ],
      "metadata": {
        "colab": {
          "base_uri": "https://localhost:8080/"
        },
        "id": "S4xeGlTZR7Dk",
        "outputId": "c90ad90c-06a2-4e2c-d2e5-cfe6c95e9c3a"
      },
      "execution_count": 11,
      "outputs": [
        {
          "output_type": "stream",
          "name": "stdout",
          "text": [
            "p\n",
            "r\n",
            "o\n",
            "v\n",
            "a\n",
            "t\n"
          ]
        }
      ]
    },
    {
      "cell_type": "code",
      "source": [
        "i=0\n",
        "while i<len(str2):\n",
        "  print(str2[i])\n",
        "  i+=1"
      ],
      "metadata": {
        "colab": {
          "base_uri": "https://localhost:8080/"
        },
        "id": "I9faLTG5ShW6",
        "outputId": "cde03236-89b4-4da8-f905-dd79e510029f"
      },
      "execution_count": 13,
      "outputs": [
        {
          "output_type": "stream",
          "name": "stdout",
          "text": [
            "0\n",
            "1\n",
            "2\n",
            "3\n",
            "4\n",
            "5\n"
          ]
        }
      ]
    },
    {
      "cell_type": "code",
      "source": [
        "StringFun= lambda s: [print(i) for i in s]\n",
        "StringFun('provat')"
      ],
      "metadata": {
        "colab": {
          "base_uri": "https://localhost:8080/"
        },
        "id": "yAEFg1TrS41J",
        "outputId": "bb8f7def-b805-4d04-af33-1dde4862cd42"
      },
      "execution_count": 23,
      "outputs": [
        {
          "output_type": "stream",
          "name": "stdout",
          "text": [
            "p\n",
            "r\n",
            "o\n",
            "v\n",
            "a\n",
            "t\n"
          ]
        },
        {
          "output_type": "execute_result",
          "data": {
            "text/plain": [
              "[None, None, None, None, None, None]"
            ]
          },
          "metadata": {},
          "execution_count": 23
        }
      ]
    },
    {
      "cell_type": "markdown",
      "source": [
        "**ciser Chiper**"
      ],
      "metadata": {
        "id": "ojsiTOUhXR9U"
      }
    },
    {
      "cell_type": "code",
      "source": [
        "string1 =\"alice\"\n",
        "chiper=\"\"\n",
        "key=3\n",
        "\n",
        "for i in string1:\n",
        "  chi=chr(ord(i)+key)\n",
        "  print(chi)\n",
        "  chiper+=chi\n",
        "\n",
        "print(chiper)\n",
        "\n",
        "encode=\"\"\n",
        "for i in chiper:\n",
        "  chi=chr(ord(i)-key)\n",
        "  print(chi)\n",
        "  encode+=chi\n",
        "\n",
        "print(encode)"
      ],
      "metadata": {
        "colab": {
          "base_uri": "https://localhost:8080/"
        },
        "id": "VY_YjI9-UX0X",
        "outputId": "90ffda71-94df-4b9b-8c1c-47e0f7cafa56"
      },
      "execution_count": 36,
      "outputs": [
        {
          "output_type": "stream",
          "name": "stdout",
          "text": [
            "d\n",
            "o\n",
            "l\n",
            "f\n",
            "h\n",
            "dolfh\n",
            "a\n",
            "l\n",
            "i\n",
            "c\n",
            "e\n",
            "alice\n"
          ]
        }
      ]
    },
    {
      "cell_type": "markdown",
      "source": [
        "[start:stop:step]"
      ],
      "metadata": {
        "id": "o50BPlqKWAcA"
      }
    },
    {
      "cell_type": "code",
      "source": [
        "def palindrom(s):\n",
        "    print(s[::-2])\n",
        "    if s == s[::-1]:\n",
        "      print(\"palindrom\")\n",
        "    else:\n",
        "      print(\"not palindrom\")\n",
        "\n",
        "\n",
        "\n",
        "\n",
        "String2= input(\"enter a string:: \")\n",
        "\n",
        "palindrom(String2)"
      ],
      "metadata": {
        "colab": {
          "base_uri": "https://localhost:8080/"
        },
        "id": "zwWsPHHnV-ln",
        "outputId": "7b497595-2f76-4795-808f-dfbc77d544c5"
      },
      "execution_count": 39,
      "outputs": [
        {
          "output_type": "stream",
          "name": "stdout",
          "text": [
            "enter a string:: provat\n",
            "tvr\n",
            "not palindrom\n"
          ]
        }
      ]
    },
    {
      "cell_type": "code",
      "source": [
        "word = input(\"enter a word\")\n",
        "\n",
        "if word == \"banana\":\n",
        "  print(\"Allright Banana\")\n",
        "if word < 'banana':\n",
        "  print('your word '+word+' comes before banana')\n",
        "elif word < 'banana':\n",
        "  print('your word '+word+'comes before banana')\n",
        "else:\n",
        "    print(\"Allright Banana\")"
      ],
      "metadata": {
        "colab": {
          "base_uri": "https://localhost:8080/"
        },
        "id": "7hzqiL5sZToB",
        "outputId": "09f46edf-aa25-4d20-a96a-b61029ced176"
      },
      "execution_count": 42,
      "outputs": [
        {
          "output_type": "stream",
          "name": "stdout",
          "text": [
            "enter a wordabc\n",
            "your word abc comes before banana\n"
          ]
        }
      ]
    },
    {
      "cell_type": "markdown",
      "source": [
        "#String Library"
      ],
      "metadata": {
        "id": "04259PpQajUn"
      }
    },
    {
      "cell_type": "code",
      "source": [
        "string5 = input(\"enter a String: \")\n",
        "\n",
        "print(string5.lower())\n",
        "print(string5.upper())\n",
        "print(string5.capitalize())"
      ],
      "metadata": {
        "colab": {
          "base_uri": "https://localhost:8080/"
        },
        "id": "RuHIWeDkagNx",
        "outputId": "a6399980-a833-4c4a-fc42-00ebb3a47b99"
      },
      "execution_count": 47,
      "outputs": [
        {
          "output_type": "stream",
          "name": "stdout",
          "text": [
            "enter a String: provat\n",
            "provat\n",
            "PROVAT\n",
            "Provat\n"
          ]
        }
      ]
    },
    {
      "cell_type": "code",
      "source": [
        "dir(str)"
      ],
      "metadata": {
        "colab": {
          "base_uri": "https://localhost:8080/"
        },
        "id": "82bOP_5ScKBQ",
        "outputId": "2543471d-526e-47c3-d080-6c5b2496bae4"
      },
      "execution_count": 48,
      "outputs": [
        {
          "output_type": "execute_result",
          "data": {
            "text/plain": [
              "['__add__',\n",
              " '__class__',\n",
              " '__contains__',\n",
              " '__delattr__',\n",
              " '__dir__',\n",
              " '__doc__',\n",
              " '__eq__',\n",
              " '__format__',\n",
              " '__ge__',\n",
              " '__getattribute__',\n",
              " '__getitem__',\n",
              " '__getnewargs__',\n",
              " '__gt__',\n",
              " '__hash__',\n",
              " '__init__',\n",
              " '__init_subclass__',\n",
              " '__iter__',\n",
              " '__le__',\n",
              " '__len__',\n",
              " '__lt__',\n",
              " '__mod__',\n",
              " '__mul__',\n",
              " '__ne__',\n",
              " '__new__',\n",
              " '__reduce__',\n",
              " '__reduce_ex__',\n",
              " '__repr__',\n",
              " '__rmod__',\n",
              " '__rmul__',\n",
              " '__setattr__',\n",
              " '__sizeof__',\n",
              " '__str__',\n",
              " '__subclasshook__',\n",
              " 'capitalize',\n",
              " 'casefold',\n",
              " 'center',\n",
              " 'count',\n",
              " 'encode',\n",
              " 'endswith',\n",
              " 'expandtabs',\n",
              " 'find',\n",
              " 'format',\n",
              " 'format_map',\n",
              " 'index',\n",
              " 'isalnum',\n",
              " 'isalpha',\n",
              " 'isascii',\n",
              " 'isdecimal',\n",
              " 'isdigit',\n",
              " 'isidentifier',\n",
              " 'islower',\n",
              " 'isnumeric',\n",
              " 'isprintable',\n",
              " 'isspace',\n",
              " 'istitle',\n",
              " 'isupper',\n",
              " 'join',\n",
              " 'ljust',\n",
              " 'lower',\n",
              " 'lstrip',\n",
              " 'maketrans',\n",
              " 'partition',\n",
              " 'removeprefix',\n",
              " 'removesuffix',\n",
              " 'replace',\n",
              " 'rfind',\n",
              " 'rindex',\n",
              " 'rjust',\n",
              " 'rpartition',\n",
              " 'rsplit',\n",
              " 'rstrip',\n",
              " 'split',\n",
              " 'splitlines',\n",
              " 'startswith',\n",
              " 'strip',\n",
              " 'swapcase',\n",
              " 'title',\n",
              " 'translate',\n",
              " 'upper',\n",
              " 'zfill']"
            ]
          },
          "metadata": {},
          "execution_count": 48
        }
      ]
    },
    {
      "cell_type": "code",
      "source": [
        "string6 = input(\"enter a String: \")\n",
        "print(string6.isalnum())\n",
        "print(string6.count('e'))"
      ],
      "metadata": {
        "colab": {
          "base_uri": "https://localhost:8080/"
        },
        "id": "N9CUvHuHcDN8",
        "outputId": "ef97d127-239d-4608-c7c9-57a36043595b"
      },
      "execution_count": 55,
      "outputs": [
        {
          "output_type": "stream",
          "name": "stdout",
          "text": [
            "enter a String: jiou7uhu\n",
            "True\n",
            "0\n"
          ]
        }
      ]
    },
    {
      "cell_type": "code",
      "source": [
        "sample_text = \"Hello, World! This is a sample string. \"\n",
        "\n",
        "print(sample_text.capitalize())\n",
        "print(sample_text.casefold())\n",
        "print(sample_text.center(50, '*'))\n",
        "print(sample_text.count('is'))\n",
        "print(sample_text.encode())\n",
        "print(sample_text.endswith('string.  '))\n",
        "\n",
        "sample_with_tabs = \"Hello\\tWorld\"\n",
        "print(sample_with_tabs.expandtabs(4))\n",
        "\n",
        "print(sample_text.find('World'))\n",
        "\n",
        "print(\"Hello, {}!\".format(\"Alice\"))\n",
        "info = {'name': 'Alice', 'age': 30}\n",
        "print(\"Name: {name}, Age: {age}\".format_map(info))\n",
        "\n",
        "\n",
        "\n",
        "print(\"Hello123\".isalnum())\n",
        "print(\"Hello\".isalpha())\n",
        "print(\"Hello\".isascii())\n",
        "print(\"123\".isdecimal())\n",
        "print(\"123\".isdigit())\n",
        "print(\"hello_world\".isidentifier())\n",
        "print(\"hello\".islower())\n",
        "print(\"123\".isnumeric())\n",
        "print(\"Hello\\n\".isprintable())\n",
        "print(\"   \".isspace())\n",
        "print(\"Hello World\".istitle())\n",
        "print(\"HELLO\".isupper())\n",
        "print(\"-\".join([\"a\", \"b\", \"c\"]))\n",
        "print(sample_text.ljust(50, '*'))\n",
        "print(sample_text.lower())\n",
        "print(sample_text.lstrip())\n",
        "\n",
        "trans_table = str.maketrans('aeiou', '12345')\n",
        "print(\"hello\".translate(trans_table))\n",
        "\n",
        "print(sample_text.partition('World'))\n",
        "print(\"TestHook\".removeprefix(\"Test\"))\n",
        "print(\"MiscTests\".removesuffix(\"Tests\"))\n",
        "print(sample_text.replace(\"Hello\", \"Hi\"))\n",
        "print(sample_text.rfind('is'))\n",
        "print(sample_text.rjust(50, '*'))\n",
        "print(sample_text.rpartition('World'))\n",
        "print(sample_text.rsplit(' ', 2))\n",
        "print(sample_text.rstrip())\n",
        "print(sample_text.split())\n",
        "multiline_text = \"Hello\\nWorld\\nThis is a test.\"\n",
        "print(multiline_text.splitlines())\n",
        "print(sample_text.startswith('  Hello'))\n",
        "print(sample_text.strip())\n",
        "print(sample_text.swapcase())\n",
        "print(sample_text.title())\n",
        "print(sample_text.translate(trans_table))\n",
        "print(sample_text.upper())\n",
        "print(\"42\".zfill(5))\n"
      ],
      "metadata": {
        "colab": {
          "base_uri": "https://localhost:8080/"
        },
        "id": "jXV-bw8bjKL1",
        "outputId": "9054a96f-d154-421b-ec8e-731320d28f49"
      },
      "execution_count": 59,
      "outputs": [
        {
          "output_type": "stream",
          "name": "stdout",
          "text": [
            "Hello, world! this is a sample string. \n",
            "hello, world! this is a sample string. \n",
            "*****Hello, World! This is a sample string. ******\n",
            "2\n",
            "b'Hello, World! This is a sample string. '\n",
            "False\n",
            "Hello   World\n",
            "7\n",
            "Hello, Alice!\n",
            "Name: Alice, Age: 30\n",
            "7\n",
            "True\n",
            "True\n",
            "True\n",
            "True\n",
            "True\n",
            "True\n",
            "True\n",
            "True\n",
            "False\n",
            "True\n",
            "True\n",
            "True\n",
            "a-b-c\n",
            "Hello, World! This is a sample string. ***********\n",
            "hello, world! this is a sample string. \n",
            "Hello, World! This is a sample string. \n",
            "h2ll4\n",
            "('Hello, ', 'World', '! This is a sample string. ')\n",
            "Hook\n",
            "Misc\n",
            "Hi, World! This is a sample string. \n",
            "19\n",
            "***********Hello, World! This is a sample string. \n",
            "('Hello, ', 'World', '! This is a sample string. ')\n",
            "['Hello, World! This is a sample', 'string.', '']\n",
            "Hello, World! This is a sample string.\n",
            "['Hello,', 'World!', 'This', 'is', 'a', 'sample', 'string.']\n",
            "['Hello', 'World', 'This is a test.']\n",
            "False\n",
            "Hello, World! This is a sample string.\n",
            "hELLO, wORLD! tHIS IS A SAMPLE STRING. \n",
            "Hello, World! This Is A Sample String. \n",
            "H2ll4, W4rld! Th3s 3s 1 s1mpl2 str3ng. \n",
            "HELLO, WORLD! THIS IS A SAMPLE STRING. \n",
            "00042\n"
          ]
        }
      ]
    },
    {
      "cell_type": "markdown",
      "source": [
        "1. Write a Python Program to get a Sentence from User to Display Total Number of Character, and Convert into Uppercase if not."
      ],
      "metadata": {
        "id": "VCGLd-lVlBlS"
      }
    },
    {
      "cell_type": "code",
      "source": [
        "String = input(\"enter a String: \")\n",
        "print(len(String) - String.count(' '))\n",
        "print(String.upper())\n"
      ],
      "metadata": {
        "colab": {
          "base_uri": "https://localhost:8080/"
        },
        "id": "scvxSC89kqyo",
        "outputId": "94dc3d43-3cbe-4e13-e49f-d29226f16f3c"
      },
      "execution_count": 64,
      "outputs": [
        {
          "output_type": "stream",
          "name": "stdout",
          "text": [
            "enter a String: ll jj\n",
            "4\n",
            "LL JJ\n"
          ]
        }
      ]
    },
    {
      "cell_type": "markdown",
      "source": [
        "2. Write a Python Program to accept only Number as String from User not Alpha or Special Character."
      ],
      "metadata": {
        "id": "AGpeuaCNmAfn"
      }
    },
    {
      "cell_type": "code",
      "source": [
        "while True:\n",
        " String = input(\"enter a String: \")\n",
        " if String.isnumeric():\n",
        "  break\n"
      ],
      "metadata": {
        "colab": {
          "base_uri": "https://localhost:8080/"
        },
        "id": "2-AKw24flZCN",
        "outputId": "cd3a70b4-c64d-4b45-a02d-eba5a664cd78"
      },
      "execution_count": 66,
      "outputs": [
        {
          "name": "stdout",
          "output_type": "stream",
          "text": [
            "enter a String: dfd3\n",
            "enter a String: 4543\n"
          ]
        }
      ]
    },
    {
      "cell_type": "markdown",
      "source": [
        "3. Write a Python Program to get Name of User that starts with ‘a’, otherwise Error Message Should Display"
      ],
      "metadata": {
        "id": "3Y4jn77Km21e"
      }
    },
    {
      "cell_type": "code",
      "source": [
        "\n",
        "  String = input(\"enter a String: \")\n",
        "  if not String.startswith('a'):\n",
        "   print(\"name must be start with a\")\n",
        "  else:\n",
        "   print(f'welcome {String}')\n"
      ],
      "metadata": {
        "colab": {
          "base_uri": "https://localhost:8080/"
        },
        "id": "2sZpgJ7qm_iI",
        "outputId": "cfb74c30-5324-44e6-caa5-2d61bbb7ffda"
      },
      "execution_count": 69,
      "outputs": [
        {
          "output_type": "stream",
          "name": "stdout",
          "text": [
            "enter a String: afsdf\n",
            "welcome afsdf\n"
          ]
        }
      ]
    },
    {
      "cell_type": "markdown",
      "source": [
        "4. Write a Python Program to get Name of User that Ends with ‘n’, otherwise Error Message Should Display"
      ],
      "metadata": {
        "id": "8bSYTWX9oPDD"
      }
    },
    {
      "cell_type": "code",
      "source": [
        "String = input(\"enter a String: \")\n",
        "if not String.endswith('n'):\n",
        " print(\"name must be end with n\")\n",
        "else:\n",
        " print(f'{String}')"
      ],
      "metadata": {
        "colab": {
          "base_uri": "https://localhost:8080/"
        },
        "id": "OltGw3MkodwB",
        "outputId": "251740c9-6beb-4ce0-8f06-16681c68d743"
      },
      "execution_count": 74,
      "outputs": [
        {
          "output_type": "stream",
          "name": "stdout",
          "text": [
            "enter a String: put on\n",
            "welcome put on\n"
          ]
        }
      ]
    },
    {
      "cell_type": "markdown",
      "source": [
        "5. Write a Python Program to get a Sentence from User, And Display Character of that Sentence that Present on Odd Index Number"
      ],
      "metadata": {
        "id": "nch0jNzfo_fj"
      }
    },
    {
      "cell_type": "code",
      "source": [
        "String = input(\"enter a String: \")\n",
        "oddChar = ''.join(list(filter(lambda i: String.index(i) % 2 == 0, String)))\n",
        "print(oddChar)"
      ],
      "metadata": {
        "colab": {
          "base_uri": "https://localhost:8080/"
        },
        "id": "M8d0mSW1pGAh",
        "outputId": "a08849a0-5981-4d99-8256-a2b3631f6852"
      },
      "execution_count": 90,
      "outputs": [
        {
          "output_type": "stream",
          "name": "stdout",
          "text": [
            "enter a String: provat\n",
            "poa\n"
          ]
        }
      ]
    },
    {
      "cell_type": "code",
      "source": [
        "String = input(\"enter a String: \")\n",
        "oddChar = ''.join(list(filter(lambda i: i.isdigit(), String)))\n",
        "print(oddChar)"
      ],
      "metadata": {
        "colab": {
          "base_uri": "https://localhost:8080/"
        },
        "id": "_oNjavb2t49L",
        "outputId": "3b32162e-98ba-4417-b649-b03929a92bec"
      },
      "execution_count": 89,
      "outputs": [
        {
          "output_type": "stream",
          "name": "stdout",
          "text": [
            "enter a String: fd54w6fsg34\n",
            "54634\n"
          ]
        }
      ]
    },
    {
      "cell_type": "code",
      "source": [],
      "metadata": {
        "colab": {
          "base_uri": "https://localhost:8080/"
        },
        "id": "VZ-0oBfAy4kI",
        "outputId": "f5a35671-0ea6-4d5e-9e4c-340ecb9c64f9"
      },
      "execution_count": 92,
      "outputs": [
        {
          "output_type": "stream",
          "name": "stdout",
          "text": [
            "jump\n"
          ]
        }
      ]
    }
  ]
}