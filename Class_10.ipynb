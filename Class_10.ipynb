{
  "nbformat": 4,
  "nbformat_minor": 0,
  "metadata": {
    "colab": {
      "provenance": [],
      "authorship_tag": "ABX9TyNTWK6RbYn0WcqtDeSivHpo",
      "include_colab_link": true
    },
    "kernelspec": {
      "name": "python3",
      "display_name": "Python 3"
    },
    "language_info": {
      "name": "python"
    }
  },
  "cells": [
    {
      "cell_type": "markdown",
      "metadata": {
        "id": "view-in-github",
        "colab_type": "text"
      },
      "source": [
        "<a href=\"https://colab.research.google.com/github/Arprovat/Python__B-2__EDGE/blob/main/Class_10.ipynb\" target=\"_parent\"><img src=\"https://colab.research.google.com/assets/colab-badge.svg\" alt=\"Open In Colab\"/></a>"
      ]
    },
    {
      "cell_type": "markdown",
      "source": [
        "# Set 🌱\n",
        "Set is the collection of unorderec ,unchageable and unindexed items.\n",
        "\n",
        "Store in *curly braces{}*\n",
        "\n",
        "store **unique** elements\n",
        "\n",
        "we can **add and remove** but we **can't update exist element**\n",
        "\n",
        "marge two set using `Update()`"
      ],
      "metadata": {
        "id": "1ooUCk-VCVbQ"
      }
    },
    {
      "cell_type": "code",
      "execution_count": 1,
      "metadata": {
        "colab": {
          "base_uri": "https://localhost:8080/"
        },
        "id": "d1yefDjjCPnD",
        "outputId": "ddbe30fa-fe86-4a7c-8f1f-9d365b3aa795"
      },
      "outputs": [
        {
          "output_type": "stream",
          "name": "stdout",
          "text": [
            "{'red', 'white', 'black'}\n"
          ]
        }
      ],
      "source": [
        "colors ={'white','red','black','white'}\n",
        "print(colors)"
      ]
    },
    {
      "cell_type": "code",
      "source": [
        "colors.add('blue')\n",
        "print(colors)"
      ],
      "metadata": {
        "colab": {
          "base_uri": "https://localhost:8080/"
        },
        "id": "KNsELU0RE2Vg",
        "outputId": "cee744a4-2579-44c9-9efd-9b1488000842"
      },
      "execution_count": 2,
      "outputs": [
        {
          "output_type": "stream",
          "name": "stdout",
          "text": [
            "{'red', 'blue', 'white', 'black'}\n"
          ]
        }
      ]
    },
    {
      "cell_type": "code",
      "source": [
        "colors.remove('white')\n",
        "print(colors)"
      ],
      "metadata": {
        "colab": {
          "base_uri": "https://localhost:8080/"
        },
        "id": "ldkyS3iKE6Cw",
        "outputId": "f0d12cb6-7d99-46f0-b323-9a967e4db0b6"
      },
      "execution_count": 3,
      "outputs": [
        {
          "output_type": "stream",
          "name": "stdout",
          "text": [
            "{'red', 'blue', 'black'}\n"
          ]
        }
      ]
    },
    {
      "cell_type": "code",
      "source": [
        "for i in colors:\n",
        "  print(i)"
      ],
      "metadata": {
        "colab": {
          "base_uri": "https://localhost:8080/"
        },
        "id": "kyk_9oUvFC7g",
        "outputId": "7f53a089-2e27-458b-b63b-f6ab8905666a"
      },
      "execution_count": 4,
      "outputs": [
        {
          "output_type": "stream",
          "name": "stdout",
          "text": [
            "red\n",
            "blue\n",
            "black\n"
          ]
        }
      ]
    },
    {
      "cell_type": "code",
      "source": [
        "Set_ =set()"
      ],
      "metadata": {
        "id": "FpfK3m5GFUDV"
      },
      "execution_count": 5,
      "outputs": []
    },
    {
      "cell_type": "code",
      "source": [
        "\n",
        "import random\n",
        "for j in range(1,11):\n",
        "  Set_.add(random.randint(2,10))\n",
        "\n",
        "print(Set_)"
      ],
      "metadata": {
        "colab": {
          "base_uri": "https://localhost:8080/"
        },
        "id": "xnpXxtyBFjHR",
        "outputId": "1712b861-31f9-4885-bb8e-0ee6efbc9a90"
      },
      "execution_count": 6,
      "outputs": [
        {
          "output_type": "stream",
          "name": "stdout",
          "text": [
            "{3, 4, 5, 6, 7, 8, 10}\n"
          ]
        }
      ]
    },
    {
      "cell_type": "code",
      "source": [
        "print('which number do want remove')\n",
        "num = int(input())\n",
        "Set_.remove(num)\n",
        "print(Set_)"
      ],
      "metadata": {
        "colab": {
          "base_uri": "https://localhost:8080/"
        },
        "id": "EIhPc74aGEZ3",
        "outputId": "bb0e0194-5001-4b9f-c63d-f39592daedd2"
      },
      "execution_count": 26,
      "outputs": [
        {
          "output_type": "stream",
          "name": "stdout",
          "text": [
            "which number do want remove\n",
            "3\n",
            "{4, 5, 6, 7, 8, 10}\n"
          ]
        }
      ]
    },
    {
      "cell_type": "code",
      "source": [
        "Set_.clear()\n",
        "print(Set_)"
      ],
      "metadata": {
        "colab": {
          "base_uri": "https://localhost:8080/"
        },
        "id": "v1LRfv27GzQt",
        "outputId": "ab4bca81-d40a-48c7-b992-e0ca83260ef9"
      },
      "execution_count": 27,
      "outputs": [
        {
          "output_type": "stream",
          "name": "stdout",
          "text": [
            "set()\n"
          ]
        }
      ]
    },
    {
      "cell_type": "code",
      "source": [
        "75\n",
        "466\n",
        "Set_1=set()\n",
        "\n",
        "for k in range(1,6):\n",
        "  element= input(\"Enter the element\")\n",
        "  Set_1.add(element)\n",
        "\n",
        "lower= {x.lower() for x in Set_1}\n",
        "print(lower)\n",
        "Upper1= {x.upper() for x in Set_1}\n",
        "print(Upper1)"
      ],
      "metadata": {
        "colab": {
          "base_uri": "https://localhost:8080/"
        },
        "id": "_amp1D4YHYt0",
        "outputId": "3c0b5a87-3a3b-4d8f-f46f-08ca64e2b3eb"
      },
      "execution_count": 9,
      "outputs": [
        {
          "output_type": "stream",
          "name": "stdout",
          "text": [
            "Enter the elementhfdjh\n",
            "Enter the elementifijs\n",
            "Enter the elementfiahdi\n",
            "Enter the elementHHHH\n",
            "Enter the elementhdafi\n",
            "{'hfdjh', 'hhhh', 'ifijs', 'hdafi', 'fiahdi'}\n",
            "{'HDAFI', 'FIAHDI', 'IFIJS', 'HHHH', 'HFDJH'}\n"
          ]
        }
      ]
    },
    {
      "cell_type": "code",
      "source": [
        "NumberSet = set()\n",
        "\n",
        "for i in range(1,11):\n",
        "  NumberSet.add(random.randint(20,29))\n",
        "\n",
        "print(NumberSet)"
      ],
      "metadata": {
        "colab": {
          "base_uri": "https://localhost:8080/"
        },
        "id": "s7TGriioIXxX",
        "outputId": "d45c6163-e665-4b11-c087-3ce8843b6de1"
      },
      "execution_count": 10,
      "outputs": [
        {
          "output_type": "stream",
          "name": "stdout",
          "text": [
            "{20, 21, 22, 24, 25, 27}\n"
          ]
        }
      ]
    },
    {
      "cell_type": "code",
      "source": [
        "sum=0\n",
        "product= 1\n",
        "for i in NumberSet:\n",
        "  sum+=i\n",
        "  product *=i\n",
        "\n",
        "print(sum)\n",
        "print(product)"
      ],
      "metadata": {
        "colab": {
          "base_uri": "https://localhost:8080/"
        },
        "id": "CyaHB0EjKdrK",
        "outputId": "d9dd3ddb-6c2a-4efa-ca4a-da4ad5eb60ad"
      },
      "execution_count": 12,
      "outputs": [
        {
          "output_type": "stream",
          "name": "stdout",
          "text": [
            "139\n",
            "149688000\n"
          ]
        }
      ]
    },
    {
      "cell_type": "markdown",
      "source": [
        "Write a Python Program to Get Items from user to Create Two Sets then Find Subtraction of Both Sets."
      ],
      "metadata": {
        "id": "M1ja5UkMOI84"
      }
    },
    {
      "cell_type": "code",
      "source": [
        "set_1 = {1,3,5,7,9}\n",
        "set_2 = {2,4,6,5,10}\n",
        "\n",
        "set_3 = set_1.difference(set_2)\n",
        "print(set_3)\n"
      ],
      "metadata": {
        "colab": {
          "base_uri": "https://localhost:8080/"
        },
        "id": "AeuVJVb1LB9R",
        "outputId": "d4f6e287-4b5f-4892-9a27-c78c98eeb4a2"
      },
      "execution_count": 13,
      "outputs": [
        {
          "output_type": "stream",
          "name": "stdout",
          "text": [
            "{1, 3, 9, 7}\n"
          ]
        }
      ]
    },
    {
      "cell_type": "markdown",
      "source": [
        "Write a Python Program to Get Items from user to Create Two Sets and Display all the Items from Both Sets Except Duplicate Items.\n"
      ],
      "metadata": {
        "id": "HK0XxNO0OChw"
      }
    },
    {
      "cell_type": "code",
      "source": [
        "set_1 = set()\n",
        "set_2 = set()\n",
        "\n",
        "for i in range(1,5):\n",
        "    num = input(\"Enter the number\")\n",
        "    set_1.add(num)\n",
        "\n",
        "\n",
        "for i in range(1,5):\n",
        "  num = input(\"Enter the number\")\n",
        "  set_2.add(num)\n",
        "\n",
        "print(set_1)\n",
        "print(set_2)\n",
        "554\n",
        "\n",
        "set_3 = set_1.symmetric_difference(set_2)\n",
        "print(set_3)\n"
      ],
      "metadata": {
        "colab": {
          "base_uri": "https://localhost:8080/"
        },
        "id": "WAE656RZLhxM",
        "outputId": "dfaed853-bce1-430f-e00c-2e884d6fb0af"
      },
      "execution_count": 14,
      "outputs": [
        {
          "output_type": "stream",
          "name": "stdout",
          "text": [
            "Enter the number2\n",
            "Enter the number4\n",
            "Enter the number5\n",
            "Enter the number6\n",
            "Enter the number7\n",
            "Enter the number8\n",
            "Enter the number9\n",
            "Enter the number4\n",
            "{'4', '2', '5', '6'}\n",
            "{'4', '8', '9', '7'}\n",
            "{'8', '7', '5', '9', '2', '6'}\n"
          ]
        }
      ]
    },
    {
      "cell_type": "markdown",
      "source": [
        "Write a Python Program to Get Only Odd Numbers from 100 Generated number using Set Comprehension."
      ],
      "metadata": {
        "id": "XkmETiOLN3Yw"
      }
    },
    {
      "cell_type": "code",
      "source": [
        "number_1= {i for i in range(101)}\n",
        "print(number_1)\n",
        "number_2= {i for i in number_1  if i%2==1}\n",
        "print(number_2)\n"
      ],
      "metadata": {
        "colab": {
          "base_uri": "https://localhost:8080/"
        },
        "id": "nr7gGnxBLp4a",
        "outputId": "887ef12c-8b76-4fac-fa6c-bf9bb34eec14"
      },
      "execution_count": 15,
      "outputs": [
        {
          "output_type": "stream",
          "name": "stdout",
          "text": [
            "{0, 1, 2, 3, 4, 5, 6, 7, 8, 9, 10, 11, 12, 13, 14, 15, 16, 17, 18, 19, 20, 21, 22, 23, 24, 25, 26, 27, 28, 29, 30, 31, 32, 33, 34, 35, 36, 37, 38, 39, 40, 41, 42, 43, 44, 45, 46, 47, 48, 49, 50, 51, 52, 53, 54, 55, 56, 57, 58, 59, 60, 61, 62, 63, 64, 65, 66, 67, 68, 69, 70, 71, 72, 73, 74, 75, 76, 77, 78, 79, 80, 81, 82, 83, 84, 85, 86, 87, 88, 89, 90, 91, 92, 93, 94, 95, 96, 97, 98, 99, 100}\n",
            "{1, 3, 5, 7, 9, 11, 13, 15, 17, 19, 21, 23, 25, 27, 29, 31, 33, 35, 37, 39, 41, 43, 45, 47, 49, 51, 53, 55, 57, 59, 61, 63, 65, 67, 69, 71, 73, 75, 77, 79, 81, 83, 85, 87, 89, 91, 93, 95, 97, 99}\n"
          ]
        }
      ]
    },
    {
      "cell_type": "markdown",
      "source": [
        "Write a Python Program to Get Only Students Name with Ending Character ‘a’ from a SET of Students using SET Comprehension\n"
      ],
      "metadata": {
        "id": "W22nj3-eNyGY"
      }
    },
    {
      "cell_type": "code",
      "source": [
        "endA = {x for x in colors if x.endswith('a')}\n",
        "print(endA)"
      ],
      "metadata": {
        "colab": {
          "base_uri": "https://localhost:8080/"
        },
        "id": "h5pzbrBVM5g4",
        "outputId": "def1e095-bb8e-49c2-c2bb-0b7d840f29f6"
      },
      "execution_count": 16,
      "outputs": [
        {
          "output_type": "stream",
          "name": "stdout",
          "text": [
            "set()\n"
          ]
        }
      ]
    },
    {
      "cell_type": "markdown",
      "source": [
        "Write a Python Program to Get Two Set from User to Find Intersection of those Set.\n"
      ],
      "metadata": {
        "id": "k8JC_HCdPWP0"
      }
    },
    {
      "cell_type": "code",
      "source": [
        "set_1 = set()\n",
        "set_2 = set()\n",
        "\n",
        "for i in range(1,5):\n",
        "    num = int(input(\"Enter the number\"))\n",
        "    set_1.add(num)\n",
        "\n",
        "\n",
        "for i in range(1,5):\n",
        "  num = int(input(\"Enter the number\"))\n",
        "  set_2.add(num)\n",
        "\n",
        "set_3 = set_1.intersection(set_2)\n",
        "print(set_3)"
      ],
      "metadata": {
        "colab": {
          "base_uri": "https://localhost:8080/"
        },
        "id": "TSVJsaxdNuSw",
        "outputId": "fd33797c-caaa-4f15-db1d-920e4a51746e"
      },
      "execution_count": 18,
      "outputs": [
        {
          "output_type": "stream",
          "name": "stdout",
          "text": [
            "Enter the number3\n",
            "Enter the number5\n",
            "Enter the number8\n",
            "Enter the number9\n",
            "Enter the number5\n",
            "Enter the number8\n",
            "Enter the number9\n",
            "Enter the number5\n",
            "{8, 9, 5}\n"
          ]
        }
      ]
    },
    {
      "cell_type": "markdown",
      "source": [
        "Write a Python Program to Get Two Set from User and Check which  Set is Subset of Other?"
      ],
      "metadata": {
        "id": "oTKKStb3Pe3y"
      }
    },
    {
      "cell_type": "code",
      "source": [
        "set_1 = set()\n",
        "set_2 = set()\n",
        "\n",
        "for i in range(1,5):\n",
        "    num = int(input(\"Enter the number\"))\n",
        "    set_1.add(num)\n",
        "\n",
        "\n",
        "for i in range(1,7):\n",
        "  num = int(input(\"Enter the number\"))\n",
        "  set_2.add(num)\n",
        "\n",
        "print(f\"{set_1.issubset(set_2)} set_1 is subset of set_2\")\n",
        "print(f\"{set_2.issubset(set_1)} set_2 is subset of set_1\" )"
      ],
      "metadata": {
        "colab": {
          "base_uri": "https://localhost:8080/"
        },
        "id": "F5j7O99DPFay",
        "outputId": "06f6a8e0-72bb-442b-dbdd-3561fa031528"
      },
      "execution_count": 28,
      "outputs": [
        {
          "output_type": "stream",
          "name": "stdout",
          "text": [
            "Enter the number2\n",
            "Enter the number4\n",
            "Enter the number5\n",
            "Enter the number6\n",
            "Enter the number3\n",
            "Enter the number5\n",
            "Enter the number6\n",
            "Enter the number7\n",
            "Enter the number8\n",
            "Enter the number9\n",
            "False set_1 is subset of set_2\n",
            "False set_2 is subset of set_1\n"
          ]
        }
      ]
    },
    {
      "cell_type": "markdown",
      "source": [
        "Write a Python Program to Create  a Set, User Able to Remove any Element from that Set, then Display Set Element to User, then Add Removed Element to Set, then Display."
      ],
      "metadata": {
        "id": "EYbbtZRZQoqg"
      }
    },
    {
      "cell_type": "code",
      "source": [
        "set_5 ={1,2,4,5,6,7}\n",
        "\n",
        "print('enter the number you want to remove')\n",
        "num = int(input())\n",
        "set_5.remove(num)\n",
        "print(set_5)\n",
        "\n",
        "set_5.add(num)\n",
        "print(set_5)"
      ],
      "metadata": {
        "colab": {
          "base_uri": "https://localhost:8080/"
        },
        "id": "jo1dyzfkQkgt",
        "outputId": "bbeb84db-7636-4663-faae-2d05ab52095b"
      },
      "execution_count": 20,
      "outputs": [
        {
          "output_type": "stream",
          "name": "stdout",
          "text": [
            "enter the number you want to remove\n",
            "2\n",
            "{1, 4, 5, 6, 7}\n",
            "{1, 2, 4, 5, 6, 7}\n"
          ]
        }
      ]
    },
    {
      "cell_type": "markdown",
      "source": [
        "Write a Python Program to Get 5 Elements from User to Store in a Set and Display One by One with their Total Number of Length."
      ],
      "metadata": {
        "id": "yV55DwF6R2Np"
      }
    },
    {
      "cell_type": "code",
      "source": [
        "et_1 = set()\n",
        "\n",
        "\n",
        "for i in range(1,5):\n",
        "    num = int(input(\"Enter the number \"))\n",
        "    et_1.add(num)\n",
        "\n",
        "for x in et_1:\n",
        "  print(f\"{x} lenths is {len(str(x))}\")\n"
      ],
      "metadata": {
        "colab": {
          "base_uri": "https://localhost:8080/"
        },
        "id": "2h7eo9UmRxGn",
        "outputId": "50b14ff1-8eb4-497d-9205-7241c071ede3"
      },
      "execution_count": 25,
      "outputs": [
        {
          "output_type": "stream",
          "name": "stdout",
          "text": [
            "Enter the number 23\n",
            "Enter the number 455\n",
            "Enter the number 6778\n",
            "Enter the number 346\n",
            "455 lenths is 3\n",
            "346 lenths is 3\n",
            "6778 lenths is 4\n",
            "23 lenths is 2\n"
          ]
        }
      ]
    },
    {
      "cell_type": "markdown",
      "source": [
        "Write a Python Program to Get 5 Elements from User to Store in a List then Add that List to a Set.\n"
      ],
      "metadata": {
        "id": "GnyNtKPtT4VE"
      }
    },
    {
      "cell_type": "code",
      "source": [
        "List_ = list()\n",
        "\n",
        "\n",
        "for i in range(5):\n",
        "    num = int(input(\"Enter the number \"))\n",
        "    List_.append(num)\n",
        "\n",
        "print(List_)\n",
        "set_1 ={x  for x in List_}\n",
        "print(set_1)"
      ],
      "metadata": {
        "colab": {
          "base_uri": "https://localhost:8080/"
        },
        "id": "HbqZ0XX6SJin",
        "outputId": "554ad38c-59d2-47e6-e6f5-ce91f2c69663"
      },
      "execution_count": 21,
      "outputs": [
        {
          "output_type": "stream",
          "name": "stdout",
          "text": [
            "Enter the number 3\n",
            "Enter the number 2\n",
            "Enter the number 4\n",
            "Enter the number 5\n",
            "Enter the number 2\n",
            "[3, 2, 4, 5, 2]\n",
            "{2, 3, 4, 5}\n"
          ]
        }
      ]
    },
    {
      "cell_type": "markdown",
      "source": [
        "# Tuple 🦖\n",
        "\n",
        "tuple can store different data type .its an ordered . create ().can't add element in tuple"
      ],
      "metadata": {
        "id": "eoWjpy4bbJIS"
      }
    },
    {
      "cell_type": "code",
      "source": [
        "color_tuple = ('red','white','black')\n",
        "print(color_tuple)"
      ],
      "metadata": {
        "colab": {
          "base_uri": "https://localhost:8080/"
        },
        "id": "9CjUvzi2UNG8",
        "outputId": "10bd6416-db40-4af3-cd3c-665b4ebdb488"
      },
      "execution_count": 22,
      "outputs": [
        {
          "output_type": "stream",
          "name": "stdout",
          "text": [
            "('red', 'white', 'black')\n"
          ]
        }
      ]
    },
    {
      "cell_type": "code",
      "source": [
        "for color in color_tuple:\n",
        "  print(color)"
      ],
      "metadata": {
        "colab": {
          "base_uri": "https://localhost:8080/"
        },
        "id": "hN9vEFJncjH8",
        "outputId": "be7cf886-aabc-4055-bb8c-bbcf8857c62a"
      },
      "execution_count": 23,
      "outputs": [
        {
          "output_type": "stream",
          "name": "stdout",
          "text": [
            "red\n",
            "white\n",
            "black\n"
          ]
        }
      ]
    },
    {
      "cell_type": "code",
      "source": [
        "def generate_name():\n",
        "  name =str()\n",
        "  n= random.randint(1,10)\n",
        "  for x in range(n):\n",
        "    name += chr(random.randint(65,90))\n",
        "  return name\n",
        "\n",
        "for i in range(5):\n",
        "  color_tuple +=(generate_name(),)\n",
        "\n",
        "print(color_tuple)\n",
        "\n",
        "\n",
        "\n",
        "\n"
      ],
      "metadata": {
        "colab": {
          "base_uri": "https://localhost:8080/"
        },
        "id": "ietkANs0cnIZ",
        "outputId": "c9f02c06-1b90-41b0-f763-d2ddda4050fb"
      },
      "execution_count": 24,
      "outputs": [
        {
          "output_type": "stream",
          "name": "stdout",
          "text": [
            "('red', 'white', 'black', 'BHRU', 'WIHVANIT', 'RNGCZWPD', 'GXHQRXNSFP', 'POK')\n"
          ]
        }
      ]
    },
    {
      "cell_type": "code",
      "source": [
        "number_tuple = tuple(random.randint(10,20) for i in range(1,11))\n",
        "print(number_tuple)\n",
        "mul=1\n",
        "for i in number_tuple:\n",
        "  mul*=i\n",
        "print(mul)\n"
      ],
      "metadata": {
        "colab": {
          "base_uri": "https://localhost:8080/"
        },
        "id": "DqTzdcvMdyDO",
        "outputId": "e6da91d4-c9d8-4c95-9f0e-a5d82f6b1dcf"
      },
      "execution_count": 32,
      "outputs": [
        {
          "output_type": "stream",
          "name": "stdout",
          "text": [
            "(18, 10, 19, 20, 16, 15, 18, 20, 12, 12)\n",
            "851005440000\n"
          ]
        }
      ]
    },
    {
      "cell_type": "code",
      "source": [
        "number_tuple = tuple(random.randint(10,20) for i in range(1,11))\n",
        "string_ =str()\n",
        "for i in number_tuple:\n",
        "  string_+=str(i)\n",
        "print(string_)\n",
        "print(type(string_))"
      ],
      "metadata": {
        "colab": {
          "base_uri": "https://localhost:8080/"
        },
        "id": "qDTUZYPMjMkh",
        "outputId": "3a3e4519-cb63-4535-8fa9-aec57d613220"
      },
      "execution_count": 35,
      "outputs": [
        {
          "output_type": "stream",
          "name": "stdout",
          "text": [
            "19201415101219161714\n",
            "<class 'str'>\n"
          ]
        }
      ]
    },
    {
      "cell_type": "code",
      "source": [
        "number_tuple = tuple(random.randint(10,20) for i in range(1,11))\n",
        "print(number_tuple)\n",
        "num= int(input())\n",
        "print(f\"index of {number_tuple.index(num)}\")\n"
      ],
      "metadata": {
        "colab": {
          "base_uri": "https://localhost:8080/"
        },
        "id": "-U8-Vb9pjpzV",
        "outputId": "1f8eff1b-6272-4b10-d069-e8a4b0cc763e"
      },
      "execution_count": 36,
      "outputs": [
        {
          "output_type": "stream",
          "name": "stdout",
          "text": [
            "(18, 17, 15, 10, 16, 17, 11, 12, 10, 11)\n",
            "11\n",
            "6\n"
          ]
        }
      ]
    },
    {
      "cell_type": "code",
      "source": [
        "number_tuple = tuple(random.randint(10,20) for i in range(1,11))\n",
        "print(number_tuple)\n",
        "\n",
        "for i in number_tuple:\n",
        "  if i%2==0 and i%3==0:\n",
        "    print(i)"
      ],
      "metadata": {
        "colab": {
          "base_uri": "https://localhost:8080/"
        },
        "id": "hgGPNhaBkNfz",
        "outputId": "814688ff-bc62-42a9-86df-0ebd3ddbae99"
      },
      "execution_count": 39,
      "outputs": [
        {
          "output_type": "stream",
          "name": "stdout",
          "text": [
            "(11, 14, 16, 17, 11, 14, 18, 11, 17, 10)\n",
            "18\n"
          ]
        }
      ]
    },
    {
      "cell_type": "code",
      "source": [
        "number_tuple = tuple(random.randint(10,20) for i in range(1,11))\n",
        "print(number_tuple)\n",
        "num= int(input())\n",
        "print(f\"occurrance {number_tuple.count(num)}\")"
      ],
      "metadata": {
        "colab": {
          "base_uri": "https://localhost:8080/"
        },
        "id": "ldMchxX1kpPE",
        "outputId": "3cd99f4a-bec5-4b74-dc28-2afb1040ed50"
      },
      "execution_count": 41,
      "outputs": [
        {
          "output_type": "stream",
          "name": "stdout",
          "text": [
            "(12, 13, 17, 19, 14, 13, 16, 10, 20, 20)\n",
            "20\n",
            "occurrance 2\n"
          ]
        }
      ]
    }
  ]
}