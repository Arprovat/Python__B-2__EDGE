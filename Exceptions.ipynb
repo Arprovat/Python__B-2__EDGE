{
  "nbformat": 4,
  "nbformat_minor": 0,
  "metadata": {
    "colab": {
      "provenance": [],
      "authorship_tag": "ABX9TyMdqnhXIQy5FeS1YVQ3+JOC",
      "include_colab_link": true
    },
    "kernelspec": {
      "name": "python3",
      "display_name": "Python 3"
    },
    "language_info": {
      "name": "python"
    }
  },
  "cells": [
    {
      "cell_type": "markdown",
      "metadata": {
        "id": "view-in-github",
        "colab_type": "text"
      },
      "source": [
        "<a href=\"https://colab.research.google.com/github/Arprovat/Python__B-2__EDGE/blob/main/Exceptions.ipynb\" target=\"_parent\"><img src=\"https://colab.research.google.com/assets/colab-badge.svg\" alt=\"Open In Colab\"/></a>"
      ]
    },
    {
      "cell_type": "markdown",
      "source": [
        "# Exception handling in python ...\n",
        "Error in Python can be of two types  Syntax errors and Exceptions. Errors are problems in a program due to which the program will stop the execution. On the other hand, exceptions are also problem which raised when some internal events occur which change/break the normal flow of the program.\n",
        "\n",
        "# Different type of Exception :    \n",
        "1. **ValueError:** when function or method called with invalid argument or input,to convert a string to an integer when the string does not represent a valid integer.like- string is *car or cat* some thing like that it should be like- *3,4 and so on*.\n",
        "2. **NameError :** variable is not found or define in scope .\n",
        "3. **TypeError**: appear when adding String with integer.\n",
        "\n",
        "and there is other type also ...\n"
      ],
      "metadata": {
        "id": "seLM2n4y-_4c"
      }
    },
    {
      "cell_type": "code",
      "execution_count": null,
      "metadata": {
        "colab": {
          "base_uri": "https://localhost:8080/",
          "height": 176
        },
        "id": "T3ncVkrJ-7B6",
        "outputId": "43d29cc6-5a73-4027-94c6-c0cd58075ba4"
      },
      "outputs": [
        {
          "name": "stdout",
          "output_type": "stream",
          "text": [
            "what is value of num : cat\n"
          ]
        },
        {
          "output_type": "error",
          "ename": "ValueError",
          "evalue": "invalid literal for int() with base 10: 'cat'",
          "traceback": [
            "\u001b[0;31m---------------------------------------------------------------------------\u001b[0m",
            "\u001b[0;31mValueError\u001b[0m                                Traceback (most recent call last)",
            "\u001b[0;32m<ipython-input-4-59b29346316b>\u001b[0m in \u001b[0;36m<cell line: 1>\u001b[0;34m()\u001b[0m\n\u001b[0;32m----> 1\u001b[0;31m \u001b[0mnum\u001b[0m \u001b[0;34m=\u001b[0m \u001b[0mint\u001b[0m\u001b[0;34m(\u001b[0m\u001b[0minput\u001b[0m\u001b[0;34m(\u001b[0m\u001b[0;34m'what is value of num : '\u001b[0m\u001b[0;34m)\u001b[0m\u001b[0;34m)\u001b[0m\u001b[0;34m\u001b[0m\u001b[0;34m\u001b[0m\u001b[0m\n\u001b[0m\u001b[1;32m      2\u001b[0m \u001b[0mprint\u001b[0m\u001b[0;34m(\u001b[0m\u001b[0;34m'value of num is: '\u001b[0m\u001b[0;34m,\u001b[0m \u001b[0mnum\u001b[0m\u001b[0;34m)\u001b[0m\u001b[0;34m\u001b[0m\u001b[0;34m\u001b[0m\u001b[0m\n",
            "\u001b[0;31mValueError\u001b[0m: invalid literal for int() with base 10: 'cat'"
          ]
        }
      ],
      "source": [
        "\n",
        "num = int(input('what is value of num : '))\n",
        "print('value of num is: ', num)"
      ]
    },
    {
      "cell_type": "markdown",
      "source": [
        "Here  in my program raised a error called ValueError  .it raised because of an internal event occur that is we give cat a string which can not convert an integer\n",
        "\n",
        "let's try to solve this error using exception handleing ▶ In python we use  ***Try, Except and finally***\n"
      ],
      "metadata": {
        "id": "Vn8oJIsbWRsU"
      }
    },
    {
      "cell_type": "code",
      "source": [
        "try:\n",
        "    num = int(input(\"what is the value of Num: \"))\n",
        "    print('Value of Num is: ',num)\n",
        "except ValueError:\n",
        "  print(\"this is not a integer\")"
      ],
      "metadata": {
        "colab": {
          "base_uri": "https://localhost:8080/"
        },
        "id": "RIh6czmeWPqj",
        "outputId": "4531a88e-f3cb-4d17-d704-7e81c47ae01c"
      },
      "execution_count": null,
      "outputs": [
        {
          "output_type": "stream",
          "name": "stdout",
          "text": [
            "what is the value of Num: cat\n",
            "this is not a integer\n"
          ]
        }
      ]
    },
    {
      "cell_type": "markdown",
      "source": [
        "Now it's not showing any error just give  feedback.\n",
        "\n",
        "**you might think that how can I know` ValueError` or which type of error will occur here or do we have any common function which catch all the error?**\n",
        "\n",
        "**Answer: yes**,but that's not good practice because of then we can't find which type of error excualy occure."
      ],
      "metadata": {
        "id": "rO9yvdrgY0MD"
      }
    },
    {
      "cell_type": "code",
      "source": [
        "try:\n",
        "    num1 = int(input(\"what is the value of Num: \"))\n",
        "except ValueError:\n",
        "  print(\"this is not a integer\")\n",
        "\n",
        "\n",
        "print('Value of Num is: ',num1)"
      ],
      "metadata": {
        "colab": {
          "base_uri": "https://localhost:8080/",
          "height": 211
        },
        "id": "JcTNYwWcaox3",
        "outputId": "846684b4-6938-4155-dc17-f3903fd0a5ed"
      },
      "execution_count": null,
      "outputs": [
        {
          "output_type": "stream",
          "name": "stdout",
          "text": [
            "what is the value of Num: cat\n",
            "this is not a integer\n"
          ]
        },
        {
          "output_type": "error",
          "ename": "NameError",
          "evalue": "name 'num1' is not defined",
          "traceback": [
            "\u001b[0;31m---------------------------------------------------------------------------\u001b[0m",
            "\u001b[0;31mNameError\u001b[0m                                 Traceback (most recent call last)",
            "\u001b[0;32m<ipython-input-11-3691960c7684>\u001b[0m in \u001b[0;36m<cell line: 7>\u001b[0;34m()\u001b[0m\n\u001b[1;32m      5\u001b[0m \u001b[0;34m\u001b[0m\u001b[0m\n\u001b[1;32m      6\u001b[0m \u001b[0;34m\u001b[0m\u001b[0m\n\u001b[0;32m----> 7\u001b[0;31m \u001b[0mprint\u001b[0m\u001b[0;34m(\u001b[0m\u001b[0;34m'Value of Num is: '\u001b[0m\u001b[0;34m,\u001b[0m\u001b[0mnum1\u001b[0m\u001b[0;34m)\u001b[0m\u001b[0;34m\u001b[0m\u001b[0;34m\u001b[0m\u001b[0m\n\u001b[0m",
            "\u001b[0;31mNameError\u001b[0m: name 'num1' is not defined"
          ]
        }
      ]
    },
    {
      "cell_type": "markdown",
      "source": [
        "**Can you tell me why num1 is not define and give NameError?**\n",
        "\n",
        "Answer: User give a string which can't convert in int so here` valueError` was raised that's why `num1 `variable would not have been assigned value. so that\n",
        "here also raised` NameError`.\n",
        "\n",
        "**let's see how to avoid this Error**\n"
      ],
      "metadata": {
        "id": "ml1QnU0XbK4B"
      }
    },
    {
      "cell_type": "code",
      "source": [
        "try:\n",
        "  num= int(input(\"what is the value of Num: \"))\n",
        "except ValueError:\n",
        "  print(\"this is not a integer\")\n",
        "else:\n",
        "  print('Value of Num is: ',num)"
      ],
      "metadata": {
        "colab": {
          "base_uri": "https://localhost:8080/"
        },
        "id": "-d2qEz5YdoIV",
        "outputId": "0f159b00-a79f-4279-b40e-64826dcff967"
      },
      "execution_count": null,
      "outputs": [
        {
          "output_type": "stream",
          "name": "stdout",
          "text": [
            "what is the value of Num: cat\n",
            "this is not a integer\n"
          ]
        }
      ]
    },
    {
      "cell_type": "code",
      "source": [
        "try:\n",
        "  num= int(input(\"what is the value of Num: \"))\n",
        "except ValueError:\n",
        "  print(\"this is not a integer\")\n",
        "else:\n",
        "  print('Value of Num is: ',num)"
      ],
      "metadata": {
        "colab": {
          "base_uri": "https://localhost:8080/"
        },
        "id": "-X-0wEa0d4dj",
        "outputId": "e6229c12-1a02-4104-b5c0-f948ec499b44"
      },
      "execution_count": null,
      "outputs": [
        {
          "output_type": "stream",
          "name": "stdout",
          "text": [
            "what is the value of Num: 23\n",
            "Value of Num is:  23\n"
          ]
        }
      ]
    }
  ]
}