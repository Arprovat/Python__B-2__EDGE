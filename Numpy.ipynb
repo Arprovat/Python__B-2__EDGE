{
  "nbformat": 4,
  "nbformat_minor": 0,
  "metadata": {
    "colab": {
      "provenance": [],
      "authorship_tag": "ABX9TyOmOGa8dleIXudjaBvudobx",
      "include_colab_link": true
    },
    "kernelspec": {
      "name": "python3",
      "display_name": "Python 3"
    },
    "language_info": {
      "name": "python"
    }
  },
  "cells": [
    {
      "cell_type": "markdown",
      "metadata": {
        "id": "view-in-github",
        "colab_type": "text"
      },
      "source": [
        "<a href=\"https://colab.research.google.com/github/Arprovat/Python__B-2__EDGE/blob/main/Numpy.ipynb\" target=\"_parent\"><img src=\"https://colab.research.google.com/assets/colab-badge.svg\" alt=\"Open In Colab\"/></a>"
      ]
    },
    {
      "cell_type": "markdown",
      "source": [
        "#NumPy\n",
        "## Why use Numpy?\n",
        " Python is not memory efficient to store numbers since it wraps everything into objects. Whereas in NumPy, we can select the number of bits to represent numbers.Numpy provide a effecient storage.It uses reletivly less space in memory to store data .It gives better way to handle data(Numaric) for processing .It fast and easy to learn.\n",
        "\n",
        "## Array in Numpy\n",
        "Array in Numpy is a table of elements (usually numbers), all of the same type, indexed by a tuple of positive integers.\n",
        "### Create Array in Numpy\n",
        "lets see ...\n"
      ],
      "metadata": {
        "id": "UJ_1klH1BgCs"
      }
    },
    {
      "cell_type": "markdown",
      "source": [
        "**Create array using python data type.**"
      ],
      "metadata": {
        "id": "WYAi5HE_UQ7J"
      }
    },
    {
      "cell_type": "code",
      "execution_count": 1,
      "metadata": {
        "id": "9tLmpeA8BaEB"
      },
      "outputs": [],
      "source": [
        "import numpy as np\n",
        "\n",
        "Array = np.array([2,3,4,5,8,6,7]) #rank 1 array"
      ]
    },
    {
      "cell_type": "code",
      "source": [
        "Array"
      ],
      "metadata": {
        "colab": {
          "base_uri": "https://localhost:8080/"
        },
        "id": "B13RezVDLoou",
        "outputId": "3c32e6dd-19ea-46cd-9c16-eabb84418189"
      },
      "execution_count": 2,
      "outputs": [
        {
          "output_type": "execute_result",
          "data": {
            "text/plain": [
              "array([2, 3, 4, 5, 8, 6, 7])"
            ]
          },
          "metadata": {},
          "execution_count": 2
        }
      ]
    },
    {
      "cell_type": "code",
      "source": [
        "\n",
        "Array = np.array([[2,3,4,5,8,6,7],\n",
        "                 [0,9,8,7,6,5,3]]) #rank 2 array\n",
        "Array                              #number of element in 1st and 2nd rank must equal"
      ],
      "metadata": {
        "colab": {
          "base_uri": "https://localhost:8080/"
        },
        "id": "0UZTVSQ0MfA9",
        "outputId": "190d1df1-485a-407c-f9d6-99ab361f2cbb"
      },
      "execution_count": 3,
      "outputs": [
        {
          "output_type": "execute_result",
          "data": {
            "text/plain": [
              "array([[2, 3, 4, 5, 8, 6, 7],\n",
              "       [0, 9, 8, 7, 6, 5, 3]])"
            ]
          },
          "metadata": {},
          "execution_count": 3
        }
      ]
    },
    {
      "cell_type": "code",
      "source": [
        "#create Numpy array using tuple\n",
        "Array = np.array((1,3,4,5,8,6,7))\n",
        "Array"
      ],
      "metadata": {
        "colab": {
          "base_uri": "https://localhost:8080/"
        },
        "id": "bnqHZO5MLy65",
        "outputId": "9c076951-657f-4c98-8306-3dc342569c50"
      },
      "execution_count": 4,
      "outputs": [
        {
          "output_type": "execute_result",
          "data": {
            "text/plain": [
              "array([1, 3, 4, 5, 8, 6, 7])"
            ]
          },
          "metadata": {},
          "execution_count": 4
        }
      ]
    },
    {
      "cell_type": "markdown",
      "source": [
        "**Create array using Function**"
      ],
      "metadata": {
        "id": "mbhWFuQpU4zW"
      }
    },
    {
      "cell_type": "code",
      "source": [
        "arrayZero = np.zeros((2,3))# create a Array full of zeros\n",
        "arrayZero"
      ],
      "metadata": {
        "colab": {
          "base_uri": "https://localhost:8080/"
        },
        "id": "LnW47jWYVFiu",
        "outputId": "f3501f64-fee0-4905-f28c-8a6b47191412"
      },
      "execution_count": 5,
      "outputs": [
        {
          "output_type": "execute_result",
          "data": {
            "text/plain": [
              "array([[0., 0., 0.],\n",
              "       [0., 0., 0.]])"
            ]
          },
          "metadata": {},
          "execution_count": 5
        }
      ]
    },
    {
      "cell_type": "code",
      "source": [
        "arrayArange= np.arange(99)\n",
        "arrayArange"
      ],
      "metadata": {
        "colab": {
          "base_uri": "https://localhost:8080/"
        },
        "id": "1D6dR4ARWAyM",
        "outputId": "b6b04c4f-6a2d-4997-fc4a-7a4b05d11bfa"
      },
      "execution_count": 6,
      "outputs": [
        {
          "output_type": "execute_result",
          "data": {
            "text/plain": [
              "array([ 0,  1,  2,  3,  4,  5,  6,  7,  8,  9, 10, 11, 12, 13, 14, 15, 16,\n",
              "       17, 18, 19, 20, 21, 22, 23, 24, 25, 26, 27, 28, 29, 30, 31, 32, 33,\n",
              "       34, 35, 36, 37, 38, 39, 40, 41, 42, 43, 44, 45, 46, 47, 48, 49, 50,\n",
              "       51, 52, 53, 54, 55, 56, 57, 58, 59, 60, 61, 62, 63, 64, 65, 66, 67,\n",
              "       68, 69, 70, 71, 72, 73, 74, 75, 76, 77, 78, 79, 80, 81, 82, 83, 84,\n",
              "       85, 86, 87, 88, 89, 90, 91, 92, 93, 94, 95, 96, 97, 98])"
            ]
          },
          "metadata": {},
          "execution_count": 6
        }
      ]
    },
    {
      "cell_type": "code",
      "source": [
        "arrayArange = arrayArange.reshape(3,33)#Make shpae like (no of row ,no. of element)\n",
        "arrayArange"
      ],
      "metadata": {
        "colab": {
          "base_uri": "https://localhost:8080/"
        },
        "id": "f0R_trGEWf5x",
        "outputId": "3f3dd3e9-22ba-466b-c36f-20fc58971950"
      },
      "execution_count": 7,
      "outputs": [
        {
          "output_type": "execute_result",
          "data": {
            "text/plain": [
              "array([[ 0,  1,  2,  3,  4,  5,  6,  7,  8,  9, 10, 11, 12, 13, 14, 15,\n",
              "        16, 17, 18, 19, 20, 21, 22, 23, 24, 25, 26, 27, 28, 29, 30, 31,\n",
              "        32],\n",
              "       [33, 34, 35, 36, 37, 38, 39, 40, 41, 42, 43, 44, 45, 46, 47, 48,\n",
              "        49, 50, 51, 52, 53, 54, 55, 56, 57, 58, 59, 60, 61, 62, 63, 64,\n",
              "        65],\n",
              "       [66, 67, 68, 69, 70, 71, 72, 73, 74, 75, 76, 77, 78, 79, 80, 81,\n",
              "        82, 83, 84, 85, 86, 87, 88, 89, 90, 91, 92, 93, 94, 95, 96, 97,\n",
              "        98]])"
            ]
          },
          "metadata": {},
          "execution_count": 7
        }
      ]
    },
    {
      "cell_type": "code",
      "source": [
        "arrayArange = arrayArange.ravel()# make 1D array\n",
        "arrayArange"
      ],
      "metadata": {
        "colab": {
          "base_uri": "https://localhost:8080/"
        },
        "id": "5SERQtRzW3kt",
        "outputId": "2ca7a139-10ff-4e1f-f543-58d5a8ea4ca5"
      },
      "execution_count": 9,
      "outputs": [
        {
          "output_type": "execute_result",
          "data": {
            "text/plain": [
              "array([ 0,  1,  2,  3,  4,  5,  6,  7,  8,  9, 10, 11, 12, 13, 14, 15, 16,\n",
              "       17, 18, 19, 20, 21, 22, 23, 24, 25, 26, 27, 28, 29, 30, 31, 32, 33,\n",
              "       34, 35, 36, 37, 38, 39, 40, 41, 42, 43, 44, 45, 46, 47, 48, 49, 50,\n",
              "       51, 52, 53, 54, 55, 56, 57, 58, 59, 60, 61, 62, 63, 64, 65, 66, 67,\n",
              "       68, 69, 70, 71, 72, 73, 74, 75, 76, 77, 78, 79, 80, 81, 82, 83, 84,\n",
              "       85, 86, 87, 88, 89, 90, 91, 92, 93, 94, 95, 96, 97, 98])"
            ]
          },
          "metadata": {},
          "execution_count": 9
        }
      ]
    },
    {
      "cell_type": "code",
      "source": [
        "arrayArange = np.arange(1,100,2)#(start,stop,step)\n",
        "arrayArange"
      ],
      "metadata": {
        "colab": {
          "base_uri": "https://localhost:8080/"
        },
        "id": "olNrA577WReq",
        "outputId": "e072d0ca-cc59-4ea9-db33-888495c4e3c1"
      },
      "execution_count": 10,
      "outputs": [
        {
          "output_type": "execute_result",
          "data": {
            "text/plain": [
              "array([ 1,  3,  5,  7,  9, 11, 13, 15, 17, 19, 21, 23, 25, 27, 29, 31, 33,\n",
              "       35, 37, 39, 41, 43, 45, 47, 49, 51, 53, 55, 57, 59, 61, 63, 65, 67,\n",
              "       69, 71, 73, 75, 77, 79, 81, 83, 85, 87, 89, 91, 93, 95, 97, 99])"
            ]
          },
          "metadata": {},
          "execution_count": 10
        }
      ]
    },
    {
      "cell_type": "code",
      "source": [
        "ArrayIndetity = np.identity(5)#create identity matrix\n",
        "ArrayIndetity"
      ],
      "metadata": {
        "colab": {
          "base_uri": "https://localhost:8080/"
        },
        "id": "eZIMgcK-XepU",
        "outputId": "9419a5a3-36bc-46c4-a5a6-a9f0ade4f7a5"
      },
      "execution_count": 21,
      "outputs": [
        {
          "output_type": "execute_result",
          "data": {
            "text/plain": [
              "array([[1., 0., 0., 0., 0.],\n",
              "       [0., 1., 0., 0., 0.],\n",
              "       [0., 0., 1., 0., 0.],\n",
              "       [0., 0., 0., 1., 0.],\n",
              "       [0., 0., 0., 0., 1.]])"
            ]
          },
          "metadata": {},
          "execution_count": 21
        }
      ]
    },
    {
      "cell_type": "code",
      "source": [
        "arrayArange.shape"
      ],
      "metadata": {
        "colab": {
          "base_uri": "https://localhost:8080/"
        },
        "id": "P9Qb2AWPYQvw",
        "outputId": "ce7b0bb6-3438-44ae-b6af-6759030b63d5"
      },
      "execution_count": 22,
      "outputs": [
        {
          "output_type": "execute_result",
          "data": {
            "text/plain": [
              "(50,)"
            ]
          },
          "metadata": {},
          "execution_count": 22
        }
      ]
    },
    {
      "cell_type": "code",
      "source": [
        "ArrayIndetity.shape"
      ],
      "metadata": {
        "colab": {
          "base_uri": "https://localhost:8080/"
        },
        "id": "8uVajeJUYsW9",
        "outputId": "1c2a6cd7-c16e-4ac7-d003-f51c7b32af2c"
      },
      "execution_count": 23,
      "outputs": [
        {
          "output_type": "execute_result",
          "data": {
            "text/plain": [
              "(5, 5)"
            ]
          },
          "metadata": {},
          "execution_count": 23
        }
      ]
    },
    {
      "cell_type": "markdown",
      "source": [
        "### Accessing Data in Array"
      ],
      "metadata": {
        "id": "9FCEw4gkL1aD"
      }
    },
    {
      "cell_type": "code",
      "source": [
        "Array[0]"
      ],
      "metadata": {
        "colab": {
          "base_uri": "https://localhost:8080/"
        },
        "id": "HTC4jsM4Nfqj",
        "outputId": "b39f1739-69c5-44e4-afbf-9ac1262e2de1"
      },
      "execution_count": 11,
      "outputs": [
        {
          "output_type": "execute_result",
          "data": {
            "text/plain": [
              "1"
            ]
          },
          "metadata": {},
          "execution_count": 11
        }
      ]
    },
    {
      "cell_type": "code",
      "source": [
        "Array=np.array([[1,23,4,5,654]])\n",
        "Array[0,1]\n"
      ],
      "metadata": {
        "colab": {
          "base_uri": "https://localhost:8080/"
        },
        "id": "C8G1OusnN7lJ",
        "outputId": "f455bc44-8da2-4e8f-fea0-ec0351bd9fdd"
      },
      "execution_count": 12,
      "outputs": [
        {
          "output_type": "execute_result",
          "data": {
            "text/plain": [
              "23"
            ]
          },
          "metadata": {},
          "execution_count": 12
        }
      ]
    },
    {
      "cell_type": "code",
      "source": [
        "#Slice\n",
        "Array=np.array([1,23,4,5,654])\n",
        "Array[:2]"
      ],
      "metadata": {
        "colab": {
          "base_uri": "https://localhost:8080/"
        },
        "id": "HDiOxHttQ13U",
        "outputId": "2980fb02-735a-4f8b-e1ec-c348c22f6031"
      },
      "execution_count": 13,
      "outputs": [
        {
          "output_type": "execute_result",
          "data": {
            "text/plain": [
              "array([ 1, 23])"
            ]
          },
          "metadata": {},
          "execution_count": 13
        }
      ]
    },
    {
      "cell_type": "code",
      "source": [
        "Array = np.array([[2,3,4,5,8,6,7],\n",
        "                 [0,9,8,7,6,5,3]])\n",
        "Array[:2,:2]"
      ],
      "metadata": {
        "colab": {
          "base_uri": "https://localhost:8080/"
        },
        "id": "0Jn1mzzURa54",
        "outputId": "26413131-fa9a-4228-f3ba-23e869589b78"
      },
      "execution_count": 14,
      "outputs": [
        {
          "output_type": "execute_result",
          "data": {
            "text/plain": [
              "array([[2, 3],\n",
              "       [0, 9]])"
            ]
          },
          "metadata": {},
          "execution_count": 14
        }
      ]
    },
    {
      "cell_type": "markdown",
      "source": [
        "## What Are Axes?\n",
        "Imagine a NumPy array like a multi-dimensional grid. Axes are simply the directions you can move along this grid. Think of them like the x, y, and z coordinates in a 3D space.\n",
        "\n",
        "**Decoding**\n",
        "\n",
        "axis=x\n",
        "\n",
        "The axis argument in NumPy functions specifies which axis to perform the operation along. Here's how it translates for different array dimensions:\n",
        "\n",
        "**1D Array (axis=0):**\n",
        "\n",
        "The only axis available. Operations will apply across all elements of the array.\n",
        "\n",
        "**2D Array:**\n",
        "\n",
        "axis=0: Operates along rows (vertically). For example, np.sum(arr_2d, axis=0) calculates the sum of each column.\n",
        "\n",
        "axis=1: Operates along columns (horizontally). np.sum(arr_2d, axis=1) calculates the sum of each row.\n",
        "\n",
        "**3D Array:**\n",
        "\n",
        "axis=0: Operates along the depth (the outermost dimension). Each operation is applied to the 2D arrays stacked along this axis.\n",
        "\n",
        "axis=1: Operates along rows within each depth level.\n",
        "\n",
        "axis=2: Operates along columns within each depth level."
      ],
      "metadata": {
        "id": "QGmegnRlesGv"
      }
    },
    {
      "cell_type": "code",
      "source": [
        "#1D array\n",
        "arr_ = np.array([1, 2, 3, 4, 5])\n",
        "print(arr_)\n",
        "print(arr_.sum(axis=0))"
      ],
      "metadata": {
        "colab": {
          "base_uri": "https://localhost:8080/"
        },
        "id": "toPwo8w6eraH",
        "outputId": "2bcf72b6-33ce-4a88-cb5e-0738ec8ff0a6"
      },
      "execution_count": 25,
      "outputs": [
        {
          "output_type": "stream",
          "name": "stdout",
          "text": [
            "[1 2 3 4 5]\n",
            "15\n"
          ]
        }
      ]
    },
    {
      "cell_type": "code",
      "source": [
        "#2d Array\n",
        "arr_ = np.array([[3,5,6,7],\n",
        "                [6,7,8,9],\n",
        "                [5,3,4,2]])\n",
        "print(arr_.sum(axis=0))#sum(3+6+5)/Row\n",
        "print(arr_.sum(axis=1))#Sum(3+5+6+7)/coloum"
      ],
      "metadata": {
        "colab": {
          "base_uri": "https://localhost:8080/"
        },
        "id": "zREgGRiwerT4",
        "outputId": "8955a54e-e4f4-469c-b287-98fa9e86c94f"
      },
      "execution_count": 29,
      "outputs": [
        {
          "output_type": "stream",
          "name": "stdout",
          "text": [
            "[14 15 18 18]\n",
            "[21 30 14]\n"
          ]
        }
      ]
    },
    {
      "cell_type": "code",
      "source": [
        "#3d Array\n",
        "arr_3D = np.array([[[3,5,6,7],[6,7,4,5]],\n",
        "                  [[5,6,7,8],[2,4,5,6]]])\n",
        "\n",
        "print(arr_3D.sum(axis=0))\n",
        "print(arr_3D.sum(axis=1))\n",
        "print(arr_3D.sum(axis=2))"
      ],
      "metadata": {
        "colab": {
          "base_uri": "https://localhost:8080/"
        },
        "id": "PW9gkhMZgv2Z",
        "outputId": "8698b54f-5cf2-4ec2-d923-5f484f6b4067"
      },
      "execution_count": 33,
      "outputs": [
        {
          "output_type": "stream",
          "name": "stdout",
          "text": [
            "[[ 8 11 13 15]\n",
            " [ 8 11  9 11]]\n",
            "[[ 9 12 10 12]\n",
            " [ 7 10 12 14]]\n",
            "[[21 22]\n",
            " [26 17]]\n"
          ]
        }
      ]
    }
  ]
}