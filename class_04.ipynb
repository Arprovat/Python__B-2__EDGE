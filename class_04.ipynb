{
  "nbformat": 4,
  "nbformat_minor": 0,
  "metadata": {
    "colab": {
      "provenance": [],
      "authorship_tag": "ABX9TyNtJLZMYm1Z7SoMhtl+f9IQ",
      "include_colab_link": true
    },
    "kernelspec": {
      "name": "python3",
      "display_name": "Python 3"
    },
    "language_info": {
      "name": "python"
    }
  },
  "cells": [
    {
      "cell_type": "markdown",
      "metadata": {
        "id": "view-in-github",
        "colab_type": "text"
      },
      "source": [
        "<a href=\"https://colab.research.google.com/github/Arprovat/Python__B-2__EDGE/blob/main/class_04.ipynb\" target=\"_parent\"><img src=\"https://colab.research.google.com/assets/colab-badge.svg\" alt=\"Open In Colab\"/></a>"
      ]
    },
    {
      "cell_type": "code",
      "execution_count": null,
      "metadata": {
        "colab": {
          "base_uri": "https://localhost:8080/"
        },
        "id": "YNaoYmlOCvG3",
        "outputId": "2b835042-4163-40a5-db67-aed1e1694674"
      },
      "outputs": [
        {
          "output_type": "stream",
          "name": "stdout",
          "text": [
            "1\n",
            "2\n",
            "3\n",
            "4\n",
            "5\n",
            "6\n",
            "7\n",
            "8\n",
            "9\n",
            "\n",
            "\n",
            "0\n",
            "1\n",
            "2\n",
            "3\n",
            "4\n",
            "5\n",
            "6\n",
            "7\n",
            "8\n",
            "9\n"
          ]
        }
      ],
      "source": [
        "#for is more convenient when number of iteration known\n",
        "# also it use when iteration is undefine\n",
        "\n",
        "#                     way of for loop\n",
        "# 1. for i in range (start, stop , step ) For Example for i in range(1,101,2):   1-100 will print\n",
        "\n",
        "# 2. for i in range(n) here n is stop value start default 0\n",
        "\n",
        "\n",
        "for i in range(1,10,1):\n",
        "    print(i)\n",
        "\n",
        "print('\\n')\n",
        "for i in range(10):\n",
        "    print(i)\n",
        "\n"
      ]
    },
    {
      "cell_type": "code",
      "source": [
        "# run for loop for list\n",
        "fruits =['apple','banana','mango']\n",
        "\n",
        "for fruit in fruits :\n",
        "    print(fruit)\n",
        "\n",
        "for i in [4,5,6,7]:\n",
        "    print(i)\n",
        "\n",
        "\n",
        "a=[8,6,84,24]\n",
        "for i in a:\n",
        "    print(i)\n",
        "\n"
      ],
      "metadata": {
        "colab": {
          "base_uri": "https://localhost:8080/"
        },
        "id": "JJZ-ItoVC7O5",
        "outputId": "0c39636c-ecb9-442d-a616-29c8c744803e"
      },
      "execution_count": null,
      "outputs": [
        {
          "output_type": "stream",
          "name": "stdout",
          "text": [
            "apple\n",
            "banana\n",
            "mango\n",
            "4\n",
            "5\n",
            "6\n",
            "7\n",
            "8\n",
            "6\n",
            "84\n",
            "24\n"
          ]
        }
      ]
    },
    {
      "cell_type": "code",
      "source": [
        "\n",
        "# run for loop for string\n",
        "word = 'hello'\n",
        "for char in word:\n",
        "    print(char)\n"
      ],
      "metadata": {
        "colab": {
          "base_uri": "https://localhost:8080/"
        },
        "id": "NHBRb806DGBu",
        "outputId": "9ead8aa6-a152-44e9-bd72-f3e1aa1f1451"
      },
      "execution_count": null,
      "outputs": [
        {
          "output_type": "stream",
          "name": "stdout",
          "text": [
            "h\n",
            "e\n",
            "l\n",
            "l\n",
            "o\n"
          ]
        }
      ]
    },
    {
      "cell_type": "code",
      "source": [
        "\n",
        "#find ASCI value for char\n",
        "word = 'hello'\n",
        "for char in word:\n",
        "    print(ord(char))\n",
        "\n",
        "\n",
        "#find ASCI to char\n",
        "word = [66,67,98,78]\n",
        "for char in word:\n",
        "    print(chr(char))\n"
      ],
      "metadata": {
        "colab": {
          "base_uri": "https://localhost:8080/"
        },
        "id": "Xr8aROj6DO3Q",
        "outputId": "42e264c6-a394-492d-8622-99be4c7c60a1"
      },
      "execution_count": null,
      "outputs": [
        {
          "output_type": "stream",
          "name": "stdout",
          "text": [
            "104\n",
            "101\n",
            "108\n",
            "108\n",
            "111\n",
            "B\n",
            "C\n",
            "b\n",
            "N\n"
          ]
        }
      ]
    },
    {
      "cell_type": "code",
      "source": [
        "\n",
        "#ceaser chiper (need one key and plaintxt)\n",
        "\n",
        "plaintext= 'hello'\n",
        "key=3\n",
        "cipher= ''\n",
        "\n",
        "for char in plaintext:\n",
        "    cipher += chr(ord(char)+key)\n",
        "\n",
        "print(cipher)\n",
        "\n",
        "dec=''\n",
        "for i in cipher:\n",
        "    dec += chr( ord(i)- key)\n",
        "\n",
        "print(dec)\n"
      ],
      "metadata": {
        "colab": {
          "base_uri": "https://localhost:8080/"
        },
        "id": "Qy_AygG7DU8b",
        "outputId": "35ffb7fd-d31f-47d9-f5ad-8163dc948d3a"
      },
      "execution_count": null,
      "outputs": [
        {
          "output_type": "stream",
          "name": "stdout",
          "text": [
            "khoor\n",
            "hello\n"
          ]
        }
      ]
    },
    {
      "cell_type": "code",
      "source": [
        "# combine two or more list and run for loop\n",
        "name = ['alice','bob','charlie']\n",
        "ages = [29,34,56]\n",
        "\n",
        "for name ,age in zip (name,ages):\n",
        "  print(name,age)"
      ],
      "metadata": {
        "colab": {
          "base_uri": "https://localhost:8080/"
        },
        "id": "8I7Ha4rEDXhq",
        "outputId": "4f23e315-1108-4abe-fdca-75b34426baa4"
      },
      "execution_count": null,
      "outputs": [
        {
          "output_type": "stream",
          "name": "stdout",
          "text": [
            "alice 29\n",
            "bob 34\n",
            "charlie 56\n"
          ]
        }
      ]
    },
    {
      "cell_type": "code",
      "source": [
        "names =['alice','bob','charlie']\n",
        "for idx,name in enumerate(names):\n",
        "   print(idx,name)"
      ],
      "metadata": {
        "colab": {
          "base_uri": "https://localhost:8080/"
        },
        "id": "Zsw-eqSBEOLK",
        "outputId": "fda421cf-a3b7-40ab-a5d6-2e0f2ec89d32"
      },
      "execution_count": null,
      "outputs": [
        {
          "output_type": "stream",
          "name": "stdout",
          "text": [
            "0 alice\n",
            "1 bob\n",
            "2 charlie\n"
          ]
        }
      ]
    },
    {
      "cell_type": "code",
      "source": [
        "# nested loop whenever we write one loop inside another loop\n",
        "# normally consider 3 loop (hour-> min -> sec)\n",
        "\n",
        "for i in range(4):\n",
        "  for j in range(4):\n",
        "    for k in range(4):\n",
        "      print(\"i: \",i,'j: ',j,\"k: \",k)"
      ],
      "metadata": {
        "colab": {
          "base_uri": "https://localhost:8080/"
        },
        "id": "tL9rmKRRFE2W",
        "outputId": "bd2f04c7-b2f9-47cc-e933-fd6fbb319566"
      },
      "execution_count": null,
      "outputs": [
        {
          "output_type": "stream",
          "name": "stdout",
          "text": [
            "i:  0 j:  0 k:  0\n",
            "i:  0 j:  0 k:  1\n",
            "i:  0 j:  0 k:  2\n",
            "i:  0 j:  0 k:  3\n",
            "i:  0 j:  1 k:  0\n",
            "i:  0 j:  1 k:  1\n",
            "i:  0 j:  1 k:  2\n",
            "i:  0 j:  1 k:  3\n",
            "i:  0 j:  2 k:  0\n",
            "i:  0 j:  2 k:  1\n",
            "i:  0 j:  2 k:  2\n",
            "i:  0 j:  2 k:  3\n",
            "i:  0 j:  3 k:  0\n",
            "i:  0 j:  3 k:  1\n",
            "i:  0 j:  3 k:  2\n",
            "i:  0 j:  3 k:  3\n",
            "i:  1 j:  0 k:  0\n",
            "i:  1 j:  0 k:  1\n",
            "i:  1 j:  0 k:  2\n",
            "i:  1 j:  0 k:  3\n",
            "i:  1 j:  1 k:  0\n",
            "i:  1 j:  1 k:  1\n",
            "i:  1 j:  1 k:  2\n",
            "i:  1 j:  1 k:  3\n",
            "i:  1 j:  2 k:  0\n",
            "i:  1 j:  2 k:  1\n",
            "i:  1 j:  2 k:  2\n",
            "i:  1 j:  2 k:  3\n",
            "i:  1 j:  3 k:  0\n",
            "i:  1 j:  3 k:  1\n",
            "i:  1 j:  3 k:  2\n",
            "i:  1 j:  3 k:  3\n",
            "i:  2 j:  0 k:  0\n",
            "i:  2 j:  0 k:  1\n",
            "i:  2 j:  0 k:  2\n",
            "i:  2 j:  0 k:  3\n",
            "i:  2 j:  1 k:  0\n",
            "i:  2 j:  1 k:  1\n",
            "i:  2 j:  1 k:  2\n",
            "i:  2 j:  1 k:  3\n",
            "i:  2 j:  2 k:  0\n",
            "i:  2 j:  2 k:  1\n",
            "i:  2 j:  2 k:  2\n",
            "i:  2 j:  2 k:  3\n",
            "i:  2 j:  3 k:  0\n",
            "i:  2 j:  3 k:  1\n",
            "i:  2 j:  3 k:  2\n",
            "i:  2 j:  3 k:  3\n",
            "i:  3 j:  0 k:  0\n",
            "i:  3 j:  0 k:  1\n",
            "i:  3 j:  0 k:  2\n",
            "i:  3 j:  0 k:  3\n",
            "i:  3 j:  1 k:  0\n",
            "i:  3 j:  1 k:  1\n",
            "i:  3 j:  1 k:  2\n",
            "i:  3 j:  1 k:  3\n",
            "i:  3 j:  2 k:  0\n",
            "i:  3 j:  2 k:  1\n",
            "i:  3 j:  2 k:  2\n",
            "i:  3 j:  2 k:  3\n",
            "i:  3 j:  3 k:  0\n",
            "i:  3 j:  3 k:  1\n",
            "i:  3 j:  3 k:  2\n",
            "i:  3 j:  3 k:  3\n"
          ]
        }
      ]
    },
    {
      "cell_type": "code",
      "source": [
        "#find max number in a List\n",
        "A= [23,44,66,75,99,33,56,90]\n",
        "max = A[0];\n",
        "for i in A:\n",
        "  if i>max:\n",
        "    max=i\n",
        "print(max)"
      ],
      "metadata": {
        "colab": {
          "base_uri": "https://localhost:8080/"
        },
        "id": "tx1fL9t0Gntp",
        "outputId": "7586d40a-a795-404a-8ff0-632252da662d"
      },
      "execution_count": null,
      "outputs": [
        {
          "output_type": "stream",
          "name": "stdout",
          "text": [
            "99\n"
          ]
        }
      ]
    },
    {
      "cell_type": "code",
      "source": [
        "#print matrix using for loop\n",
        "matrix =[[1,2,3],[4,5,6],[7,8,9]]\n",
        "for row in matrix:\n",
        "  for element in row:\n",
        "    print(element ,end=' ')\n",
        "  print('\\n')"
      ],
      "metadata": {
        "colab": {
          "base_uri": "https://localhost:8080/"
        },
        "id": "PAaBBbbtJG64",
        "outputId": "d814d3b3-b2b8-4ffa-f445-d4d2533bb52a"
      },
      "execution_count": null,
      "outputs": [
        {
          "output_type": "stream",
          "name": "stdout",
          "text": [
            "1 2 3 \n",
            "\n",
            "4 5 6 \n",
            "\n",
            "7 8 9 \n",
            "\n"
          ]
        }
      ]
    }
  ]
}