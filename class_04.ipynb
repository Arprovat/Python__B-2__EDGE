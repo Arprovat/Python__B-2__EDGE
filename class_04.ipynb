{
  "nbformat": 4,
  "nbformat_minor": 0,
  "metadata": {
    "colab": {
      "provenance": [],
      "authorship_tag": "ABX9TyMjLgUIIyzg5l9B6bD6DqWL",
      "include_colab_link": true
    },
    "kernelspec": {
      "name": "python3",
      "display_name": "Python 3"
    },
    "language_info": {
      "name": "python"
    }
  },
  "cells": [
    {
      "cell_type": "markdown",
      "metadata": {
        "id": "view-in-github",
        "colab_type": "text"
      },
      "source": [
        "<a href=\"https://colab.research.google.com/github/Arprovat/Python__B-2__EDGE/blob/main/class_04.ipynb\" target=\"_parent\"><img src=\"https://colab.research.google.com/assets/colab-badge.svg\" alt=\"Open In Colab\"/></a>"
      ]
    },
    {
      "cell_type": "code",
      "execution_count": null,
      "metadata": {
        "colab": {
          "base_uri": "https://localhost:8080/"
        },
        "id": "YNaoYmlOCvG3",
        "outputId": "2b835042-4163-40a5-db67-aed1e1694674"
      },
      "outputs": [
        {
          "output_type": "stream",
          "name": "stdout",
          "text": [
            "1\n",
            "2\n",
            "3\n",
            "4\n",
            "5\n",
            "6\n",
            "7\n",
            "8\n",
            "9\n",
            "\n",
            "\n",
            "0\n",
            "1\n",
            "2\n",
            "3\n",
            "4\n",
            "5\n",
            "6\n",
            "7\n",
            "8\n",
            "9\n"
          ]
        }
      ],
      "source": [
        "#for is more convenient when number of iteration known\n",
        "# also it use when iteration is undefine\n",
        "\n",
        "#                     way of for loop\n",
        "# 1. for i in range (start, stop , step ) For Example for i in range(1,101,2):   1-100 will print\n",
        "\n",
        "# 2. for i in range(n) here n is stop value start default 0\n",
        "\n",
        "\n",
        "for i in range(1,10,1):\n",
        "    print(i)\n",
        "\n",
        "print('\\n')\n",
        "for i in range(10):\n",
        "    print(i)\n",
        "\n"
      ]
    },
    {
      "cell_type": "code",
      "source": [
        "# run for loop for list\n",
        "fruits =['apple','banana','mango']\n",
        "\n",
        "for fruit in fruits :\n",
        "    print(fruit)\n",
        "\n",
        "for i in [4,5,6,7]:\n",
        "    print(i)\n",
        "\n",
        "\n",
        "a=[8,6,84,24]\n",
        "for i in a:\n",
        "    print(i)\n",
        "\n"
      ],
      "metadata": {
        "colab": {
          "base_uri": "https://localhost:8080/"
        },
        "id": "JJZ-ItoVC7O5",
        "outputId": "0c39636c-ecb9-442d-a616-29c8c744803e"
      },
      "execution_count": null,
      "outputs": [
        {
          "output_type": "stream",
          "name": "stdout",
          "text": [
            "apple\n",
            "banana\n",
            "mango\n",
            "4\n",
            "5\n",
            "6\n",
            "7\n",
            "8\n",
            "6\n",
            "84\n",
            "24\n"
          ]
        }
      ]
    },
    {
      "cell_type": "code",
      "source": [
        "\n",
        "# run for loop for string\n",
        "word = 'hello'\n",
        "for char in word:\n",
        "    print(char)\n"
      ],
      "metadata": {
        "colab": {
          "base_uri": "https://localhost:8080/"
        },
        "id": "NHBRb806DGBu",
        "outputId": "9ead8aa6-a152-44e9-bd72-f3e1aa1f1451"
      },
      "execution_count": null,
      "outputs": [
        {
          "output_type": "stream",
          "name": "stdout",
          "text": [
            "h\n",
            "e\n",
            "l\n",
            "l\n",
            "o\n"
          ]
        }
      ]
    },
    {
      "cell_type": "code",
      "source": [
        "\n",
        "#find ASCI value for char\n",
        "word = 'hello'\n",
        "for char in word:\n",
        "    print(ord(char))\n",
        "\n",
        "\n",
        "#find ASCI to char\n",
        "word = [66,67,98,78]\n",
        "for char in word:\n",
        "    print(chr(char))\n"
      ],
      "metadata": {
        "colab": {
          "base_uri": "https://localhost:8080/"
        },
        "id": "Xr8aROj6DO3Q",
        "outputId": "42e264c6-a394-492d-8622-99be4c7c60a1"
      },
      "execution_count": null,
      "outputs": [
        {
          "output_type": "stream",
          "name": "stdout",
          "text": [
            "104\n",
            "101\n",
            "108\n",
            "108\n",
            "111\n",
            "B\n",
            "C\n",
            "b\n",
            "N\n"
          ]
        }
      ]
    },
    {
      "cell_type": "code",
      "source": [
        "\n",
        "#ceaser chiper (need one key and plaintxt)\n",
        "\n",
        "plaintext= 'hello'\n",
        "key=3\n",
        "cipher= ''\n",
        "\n",
        "for char in plaintext:\n",
        "    cipher += chr(ord(char)+key)\n",
        "\n",
        "print(cipher)\n",
        "\n",
        "dec=''\n",
        "for i in cipher:\n",
        "    dec += chr( ord(i)- key)\n",
        "\n",
        "print(dec)\n"
      ],
      "metadata": {
        "colab": {
          "base_uri": "https://localhost:8080/"
        },
        "id": "Qy_AygG7DU8b",
        "outputId": "35ffb7fd-d31f-47d9-f5ad-8163dc948d3a"
      },
      "execution_count": null,
      "outputs": [
        {
          "output_type": "stream",
          "name": "stdout",
          "text": [
            "khoor\n",
            "hello\n"
          ]
        }
      ]
    },
    {
      "cell_type": "code",
      "source": [
        "# combine two or more list and run for loop\n",
        "name = ['alice','bob','charlie']\n",
        "ages = [29,34,56]\n",
        "\n",
        "for name ,age in zip (name,ages):\n",
        "  print(name,age)"
      ],
      "metadata": {
        "colab": {
          "base_uri": "https://localhost:8080/"
        },
        "id": "8I7Ha4rEDXhq",
        "outputId": "4f23e315-1108-4abe-fdca-75b34426baa4"
      },
      "execution_count": null,
      "outputs": [
        {
          "output_type": "stream",
          "name": "stdout",
          "text": [
            "alice 29\n",
            "bob 34\n",
            "charlie 56\n"
          ]
        }
      ]
    },
    {
      "cell_type": "code",
      "source": [
        "names =['alice','bob','charlie']\n",
        "for idx,name in enumerate(names):\n",
        "   print(idx,name)"
      ],
      "metadata": {
        "colab": {
          "base_uri": "https://localhost:8080/"
        },
        "id": "Zsw-eqSBEOLK",
        "outputId": "fda421cf-a3b7-40ab-a5d6-2e0f2ec89d32"
      },
      "execution_count": null,
      "outputs": [
        {
          "output_type": "stream",
          "name": "stdout",
          "text": [
            "0 alice\n",
            "1 bob\n",
            "2 charlie\n"
          ]
        }
      ]
    },
    {
      "cell_type": "code",
      "source": [
        "# nested loop whenever we write one loop inside another loop\n",
        "# normally consider 3 loop (hour-> min -> sec)\n",
        "\n",
        "for i in range(4):\n",
        "  for j in range(4):\n",
        "    for k in range(4):\n",
        "      print(\"i: \",i,'j: ',j,\"k: \",k)"
      ],
      "metadata": {
        "colab": {
          "base_uri": "https://localhost:8080/"
        },
        "id": "tL9rmKRRFE2W",
        "outputId": "bd2f04c7-b2f9-47cc-e933-fd6fbb319566"
      },
      "execution_count": null,
      "outputs": [
        {
          "output_type": "stream",
          "name": "stdout",
          "text": [
            "i:  0 j:  0 k:  0\n",
            "i:  0 j:  0 k:  1\n",
            "i:  0 j:  0 k:  2\n",
            "i:  0 j:  0 k:  3\n",
            "i:  0 j:  1 k:  0\n",
            "i:  0 j:  1 k:  1\n",
            "i:  0 j:  1 k:  2\n",
            "i:  0 j:  1 k:  3\n",
            "i:  0 j:  2 k:  0\n",
            "i:  0 j:  2 k:  1\n",
            "i:  0 j:  2 k:  2\n",
            "i:  0 j:  2 k:  3\n",
            "i:  0 j:  3 k:  0\n",
            "i:  0 j:  3 k:  1\n",
            "i:  0 j:  3 k:  2\n",
            "i:  0 j:  3 k:  3\n",
            "i:  1 j:  0 k:  0\n",
            "i:  1 j:  0 k:  1\n",
            "i:  1 j:  0 k:  2\n",
            "i:  1 j:  0 k:  3\n",
            "i:  1 j:  1 k:  0\n",
            "i:  1 j:  1 k:  1\n",
            "i:  1 j:  1 k:  2\n",
            "i:  1 j:  1 k:  3\n",
            "i:  1 j:  2 k:  0\n",
            "i:  1 j:  2 k:  1\n",
            "i:  1 j:  2 k:  2\n",
            "i:  1 j:  2 k:  3\n",
            "i:  1 j:  3 k:  0\n",
            "i:  1 j:  3 k:  1\n",
            "i:  1 j:  3 k:  2\n",
            "i:  1 j:  3 k:  3\n",
            "i:  2 j:  0 k:  0\n",
            "i:  2 j:  0 k:  1\n",
            "i:  2 j:  0 k:  2\n",
            "i:  2 j:  0 k:  3\n",
            "i:  2 j:  1 k:  0\n",
            "i:  2 j:  1 k:  1\n",
            "i:  2 j:  1 k:  2\n",
            "i:  2 j:  1 k:  3\n",
            "i:  2 j:  2 k:  0\n",
            "i:  2 j:  2 k:  1\n",
            "i:  2 j:  2 k:  2\n",
            "i:  2 j:  2 k:  3\n",
            "i:  2 j:  3 k:  0\n",
            "i:  2 j:  3 k:  1\n",
            "i:  2 j:  3 k:  2\n",
            "i:  2 j:  3 k:  3\n",
            "i:  3 j:  0 k:  0\n",
            "i:  3 j:  0 k:  1\n",
            "i:  3 j:  0 k:  2\n",
            "i:  3 j:  0 k:  3\n",
            "i:  3 j:  1 k:  0\n",
            "i:  3 j:  1 k:  1\n",
            "i:  3 j:  1 k:  2\n",
            "i:  3 j:  1 k:  3\n",
            "i:  3 j:  2 k:  0\n",
            "i:  3 j:  2 k:  1\n",
            "i:  3 j:  2 k:  2\n",
            "i:  3 j:  2 k:  3\n",
            "i:  3 j:  3 k:  0\n",
            "i:  3 j:  3 k:  1\n",
            "i:  3 j:  3 k:  2\n",
            "i:  3 j:  3 k:  3\n"
          ]
        }
      ]
    },
    {
      "cell_type": "code",
      "source": [
        "#find max number in a List\n",
        "A= [23,44,66,75,99,33,56,90]\n",
        "max = A[0];\n",
        "for i in A:\n",
        "  if i>max:\n",
        "    max=i\n",
        "print(max)"
      ],
      "metadata": {
        "colab": {
          "base_uri": "https://localhost:8080/"
        },
        "id": "tx1fL9t0Gntp",
        "outputId": "7586d40a-a795-404a-8ff0-632252da662d"
      },
      "execution_count": null,
      "outputs": [
        {
          "output_type": "stream",
          "name": "stdout",
          "text": [
            "99\n"
          ]
        }
      ]
    },
    {
      "cell_type": "code",
      "source": [
        "#print matrix using for loop\n",
        "matrix =[[1,2,3],[4,5,6],[7,8,9]]\n",
        "for row in matrix:\n",
        "  for element in row:\n",
        "    print(element ,end=' ')\n",
        "  print('\\n')"
      ],
      "metadata": {
        "colab": {
          "base_uri": "https://localhost:8080/"
        },
        "id": "PAaBBbbtJG64",
        "outputId": "d814d3b3-b2b8-4ffa-f445-d4d2533bb52a"
      },
      "execution_count": null,
      "outputs": [
        {
          "output_type": "stream",
          "name": "stdout",
          "text": [
            "1 2 3 \n",
            "\n",
            "4 5 6 \n",
            "\n",
            "7 8 9 \n",
            "\n"
          ]
        }
      ]
    },
    {
      "cell_type": "markdown",
      "source": [
        "**Exercises**\n"
      ],
      "metadata": {
        "id": "hk1S03pHTwUy"
      }
    },
    {
      "cell_type": "code",
      "source": [
        "# 1. Print Number from 1 to 10\n",
        "for i in range(1,11):\n",
        "  print(i)"
      ],
      "metadata": {
        "colab": {
          "base_uri": "https://localhost:8080/"
        },
        "id": "KREgP0XwQMfO",
        "outputId": "a7f0a72d-612a-4250-8a13-4b02f2a6c947"
      },
      "execution_count": 14,
      "outputs": [
        {
          "output_type": "stream",
          "name": "stdout",
          "text": [
            "1\n",
            "2\n",
            "3\n",
            "4\n",
            "5\n",
            "6\n",
            "7\n",
            "8\n",
            "9\n",
            "10\n"
          ]
        }
      ]
    },
    {
      "cell_type": "code",
      "source": [
        "# 2. Sum of First N Natual Numbers\n",
        "n=5\n",
        "sum=0\n",
        "for i in range(1,n+1):\n",
        "  sum+=i\n",
        "print(sum)"
      ],
      "metadata": {
        "colab": {
          "base_uri": "https://localhost:8080/"
        },
        "id": "q7Kwr0sTRhRw",
        "outputId": "720dc7d0-e9c4-4440-a8a4-f11f22e3352f"
      },
      "execution_count": 15,
      "outputs": [
        {
          "output_type": "stream",
          "name": "stdout",
          "text": [
            "15\n"
          ]
        }
      ]
    },
    {
      "cell_type": "code",
      "source": [
        "#3. print each character of a string\n",
        "String = 'hello world'\n",
        "for char in String:\n",
        "  print(char)"
      ],
      "metadata": {
        "colab": {
          "base_uri": "https://localhost:8080/"
        },
        "id": "6F3xY7kIRsxE",
        "outputId": "a4e75a95-6ea7-459d-a041-0be3c4ae19ff"
      },
      "execution_count": 16,
      "outputs": [
        {
          "output_type": "stream",
          "name": "stdout",
          "text": [
            "h\n",
            "e\n",
            "l\n",
            "l\n",
            "o\n",
            " \n",
            "w\n",
            "o\n",
            "r\n",
            "l\n",
            "d\n"
          ]
        }
      ]
    },
    {
      "cell_type": "code",
      "source": [
        "#4. Print Even number between  1 to 20\n",
        "for i in range(20):\n",
        "  if i%2==0:\n",
        "    print(i)"
      ],
      "metadata": {
        "colab": {
          "base_uri": "https://localhost:8080/"
        },
        "id": "6rMmGm-rSDX2",
        "outputId": "b7139079-8b05-4961-fab0-6b824cfdf6ad"
      },
      "execution_count": 17,
      "outputs": [
        {
          "output_type": "stream",
          "name": "stdout",
          "text": [
            "0\n",
            "2\n",
            "4\n",
            "6\n",
            "8\n",
            "10\n",
            "12\n",
            "14\n",
            "16\n",
            "18\n"
          ]
        }
      ]
    },
    {
      "cell_type": "code",
      "source": [
        "#5. find the factorial of a Number\n",
        "n=5\n",
        "fact =1\n",
        "for i in range(1,n+1):\n",
        "  fact*=i\n",
        "  print(fact)"
      ],
      "metadata": {
        "colab": {
          "base_uri": "https://localhost:8080/"
        },
        "id": "7yGgJdZVSYO7",
        "outputId": "f1f64d93-0bbf-4e7e-eb04-d497a53169db"
      },
      "execution_count": 18,
      "outputs": [
        {
          "output_type": "stream",
          "name": "stdout",
          "text": [
            "1\n",
            "2\n",
            "6\n",
            "24\n",
            "120\n"
          ]
        }
      ]
    },
    {
      "cell_type": "code",
      "source": [
        "#6 Creative a multiplication table\n",
        "\n",
        "n=9\n",
        "for i in range(1,11):\n",
        "  print(n,\"X\",i,'=',i*n)\n",
        ""
      ],
      "metadata": {
        "colab": {
          "base_uri": "https://localhost:8080/"
        },
        "id": "JZYHOML0S0D4",
        "outputId": "fd472b97-f35c-4cbd-a5c0-c624e050b29d"
      },
      "execution_count": 20,
      "outputs": [
        {
          "output_type": "stream",
          "name": "stdout",
          "text": [
            "9 X 1 = 9\n",
            "9 X 2 = 18\n",
            "9 X 3 = 27\n",
            "9 X 4 = 36\n",
            "9 X 5 = 45\n",
            "9 X 6 = 54\n",
            "9 X 7 = 63\n",
            "9 X 8 = 72\n",
            "9 X 9 = 81\n",
            "9 X 10 = 90\n"
          ]
        }
      ]
    },
    {
      "cell_type": "code",
      "source": [
        "#7. sum of Even number in a List\n",
        "\n",
        "List =[ 2,4,3,5,67,84,67,88,22]\n",
        "sum=0;\n",
        "for i in List:\n",
        "  if i%2==0:\n",
        "    sum+=i\n",
        "print(sum)"
      ],
      "metadata": {
        "colab": {
          "base_uri": "https://localhost:8080/"
        },
        "id": "zl4O9ZtMTkuK",
        "outputId": "c0fbf2ed-01c0-40aa-9cd2-ea48f0585639"
      },
      "execution_count": 21,
      "outputs": [
        {
          "output_type": "stream",
          "name": "stdout",
          "text": [
            "200\n"
          ]
        }
      ]
    },
    {
      "cell_type": "code",
      "source": [
        "#8.count the frequency of digit in a number\n",
        "list=[0,0,0,0,0,0,0,0,0,0]\n",
        "number =12468\n",
        "while number>0:\n",
        "  digit = number%10\n",
        "  list[digit] += 1\n",
        "  number//=10\n",
        "\n",
        "print(list)\n"
      ],
      "metadata": {
        "colab": {
          "base_uri": "https://localhost:8080/"
        },
        "id": "k2pCnPiEUj9O",
        "outputId": "519401c2-9684-41a2-86e5-5e9f2c636197"
      },
      "execution_count": 29,
      "outputs": [
        {
          "output_type": "stream",
          "name": "stdout",
          "text": [
            "[0, 1, 1, 0, 1, 0, 1, 0, 1, 0]\n"
          ]
        }
      ]
    },
    {
      "cell_type": "code",
      "source": [
        "#10check for prime numbers in a range\n",
        "import math\n",
        "num= int(input())\n",
        "\n",
        "\n",
        "for j in range(2,int(math.sqrt(n))+1,1):\n",
        "    if not (num%j):\n",
        "      print(\"not prime\")\n",
        "      break\n",
        "else:\n",
        "      print(\"prime\")\n",
        "\n"
      ],
      "metadata": {
        "colab": {
          "base_uri": "https://localhost:8080/"
        },
        "id": "jVD1arN0WLFn",
        "outputId": "1f548eb4-4281-4eb9-81f0-ede6e599c165"
      },
      "execution_count": 31,
      "outputs": [
        {
          "output_type": "stream",
          "name": "stdout",
          "text": [
            "11\n",
            "prime\n"
          ]
        }
      ]
    },
    {
      "cell_type": "code",
      "source": [
        "#plaindron of number\n",
        "num = 1221\n",
        "reverse=0\n",
        "while num>0:\n",
        "  digit = num%10\n",
        "  reverse = reverse*10 + digit\n",
        "  num//=10\n",
        "if reverse ==num:\n",
        "  print(\"plaindron\")\n",
        "else:\n",
        "  print(\"not plaindron\")"
      ],
      "metadata": {
        "colab": {
          "base_uri": "https://localhost:8080/"
        },
        "id": "EOgRndVybIOJ",
        "outputId": "df7d1ff1-858b-4852-8388-360daf7f57c7"
      },
      "execution_count": 34,
      "outputs": [
        {
          "output_type": "stream",
          "name": "stdout",
          "text": [
            "not plaindron\n"
          ]
        }
      ]
    },
    {
      "cell_type": "code",
      "source": [
        "#check palindron in List\n",
        "name = ['provat','nadim','NNN']\n",
        "\n",
        "for i in name:\n",
        "  reverse = ''\n",
        "  if i == i[::-1]:\n",
        "    reverse +=i\n",
        "    print('plaindron',reverse)\n",
        "  else:\n",
        "    print('not plaindron',i)\n",
        "\n",
        "\n"
      ],
      "metadata": {
        "colab": {
          "base_uri": "https://localhost:8080/"
        },
        "id": "9dwTY8j7bKyw",
        "outputId": "e3970ea9-a0b1-4290-9524-f221d0714c4b"
      },
      "execution_count": 36,
      "outputs": [
        {
          "output_type": "stream",
          "name": "stdout",
          "text": [
            "not plaindron provat\n",
            "not plaindron nadim\n",
            "plaindron NNN\n"
          ]
        }
      ]
    }
  ]
}